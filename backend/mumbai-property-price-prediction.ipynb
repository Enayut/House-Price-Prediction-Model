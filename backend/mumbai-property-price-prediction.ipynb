{
 "cells": [
  {
   "cell_type": "code",
   "execution_count": 83,
   "id": "3d333dc5",
   "metadata": {
    "execution": {
     "iopub.execute_input": "2022-10-04T14:17:39.910681Z",
     "iopub.status.busy": "2022-10-04T14:17:39.910063Z",
     "iopub.status.idle": "2022-10-04T14:17:39.924396Z",
     "shell.execute_reply": "2022-10-04T14:17:39.923555Z"
    },
    "id": "GIcqZ9PJMldY",
    "papermill": {
     "duration": 0.032918,
     "end_time": "2022-10-04T14:17:39.926630",
     "exception": false,
     "start_time": "2022-10-04T14:17:39.893712",
     "status": "completed"
    },
    "tags": []
   },
   "outputs": [],
   "source": [
    "import pandas as pd\n",
    "import numpy as np\n",
    "import matplotlib.pyplot as plt \n",
    "import matplotlib_inline\n",
    "import matplotlib\n",
    "matplotlib.rcParams[\"figure.figsize\"] = (20,10)\n"
   ]
  },
  {
   "cell_type": "code",
   "execution_count": 84,
   "id": "88be050a",
   "metadata": {
    "execution": {
     "iopub.execute_input": "2022-10-04T14:17:39.952692Z",
     "iopub.status.busy": "2022-10-04T14:17:39.952321Z",
     "iopub.status.idle": "2022-10-04T14:17:40.005012Z",
     "shell.execute_reply": "2022-10-04T14:17:40.003923Z"
    },
    "id": "-tPy7njiN7dM",
    "outputId": "dd1d06f6-c33c-40bd-ff75-a6ed43d3907a",
    "papermill": {
     "duration": 0.068247,
     "end_time": "2022-10-04T14:17:40.007311",
     "exception": false,
     "start_time": "2022-10-04T14:17:39.939064",
     "status": "completed"
    },
    "tags": []
   },
   "outputs": [
    {
     "data": {
      "text/html": [
       "<div>\n",
       "<style scoped>\n",
       "    .dataframe tbody tr th:only-of-type {\n",
       "        vertical-align: middle;\n",
       "    }\n",
       "\n",
       "    .dataframe tbody tr th {\n",
       "        vertical-align: top;\n",
       "    }\n",
       "\n",
       "    .dataframe thead th {\n",
       "        text-align: right;\n",
       "    }\n",
       "</style>\n",
       "<table border=\"1\" class=\"dataframe\">\n",
       "  <thead>\n",
       "    <tr style=\"text-align: right;\">\n",
       "      <th></th>\n",
       "      <th>Unnamed: 0</th>\n",
       "      <th>Price</th>\n",
       "      <th>Area</th>\n",
       "      <th>Location</th>\n",
       "      <th>No. of Bedrooms</th>\n",
       "      <th>New/Resale</th>\n",
       "      <th>Gymnasium</th>\n",
       "      <th>Lift Available</th>\n",
       "      <th>Car Parking</th>\n",
       "      <th>Maintenance Staff</th>\n",
       "      <th>24x7 Security</th>\n",
       "      <th>Children's Play Area</th>\n",
       "      <th>Clubhouse</th>\n",
       "      <th>Intercom</th>\n",
       "      <th>Landscaped Gardens</th>\n",
       "      <th>Indoor Games</th>\n",
       "      <th>Gas Connection</th>\n",
       "      <th>Jogging Track</th>\n",
       "      <th>Swimming Pool</th>\n",
       "    </tr>\n",
       "  </thead>\n",
       "  <tbody>\n",
       "    <tr>\n",
       "      <th>0</th>\n",
       "      <td>0</td>\n",
       "      <td>4850000</td>\n",
       "      <td>720</td>\n",
       "      <td>Kharghar</td>\n",
       "      <td>1</td>\n",
       "      <td>0</td>\n",
       "      <td>0</td>\n",
       "      <td>1</td>\n",
       "      <td>1</td>\n",
       "      <td>1</td>\n",
       "      <td>1</td>\n",
       "      <td>0</td>\n",
       "      <td>0</td>\n",
       "      <td>0</td>\n",
       "      <td>0</td>\n",
       "      <td>0</td>\n",
       "      <td>0</td>\n",
       "      <td>0</td>\n",
       "      <td>0</td>\n",
       "    </tr>\n",
       "    <tr>\n",
       "      <th>1</th>\n",
       "      <td>1</td>\n",
       "      <td>4500000</td>\n",
       "      <td>600</td>\n",
       "      <td>Kharghar</td>\n",
       "      <td>1</td>\n",
       "      <td>0</td>\n",
       "      <td>1</td>\n",
       "      <td>1</td>\n",
       "      <td>1</td>\n",
       "      <td>1</td>\n",
       "      <td>1</td>\n",
       "      <td>0</td>\n",
       "      <td>1</td>\n",
       "      <td>0</td>\n",
       "      <td>0</td>\n",
       "      <td>0</td>\n",
       "      <td>0</td>\n",
       "      <td>1</td>\n",
       "      <td>1</td>\n",
       "    </tr>\n",
       "    <tr>\n",
       "      <th>2</th>\n",
       "      <td>2</td>\n",
       "      <td>6700000</td>\n",
       "      <td>650</td>\n",
       "      <td>Kharghar</td>\n",
       "      <td>1</td>\n",
       "      <td>0</td>\n",
       "      <td>1</td>\n",
       "      <td>1</td>\n",
       "      <td>1</td>\n",
       "      <td>1</td>\n",
       "      <td>1</td>\n",
       "      <td>1</td>\n",
       "      <td>1</td>\n",
       "      <td>1</td>\n",
       "      <td>0</td>\n",
       "      <td>0</td>\n",
       "      <td>0</td>\n",
       "      <td>1</td>\n",
       "      <td>1</td>\n",
       "    </tr>\n",
       "    <tr>\n",
       "      <th>3</th>\n",
       "      <td>3</td>\n",
       "      <td>4500000</td>\n",
       "      <td>650</td>\n",
       "      <td>Kharghar</td>\n",
       "      <td>1</td>\n",
       "      <td>0</td>\n",
       "      <td>0</td>\n",
       "      <td>1</td>\n",
       "      <td>1</td>\n",
       "      <td>1</td>\n",
       "      <td>1</td>\n",
       "      <td>0</td>\n",
       "      <td>0</td>\n",
       "      <td>1</td>\n",
       "      <td>1</td>\n",
       "      <td>0</td>\n",
       "      <td>0</td>\n",
       "      <td>0</td>\n",
       "      <td>0</td>\n",
       "    </tr>\n",
       "    <tr>\n",
       "      <th>4</th>\n",
       "      <td>4</td>\n",
       "      <td>5000000</td>\n",
       "      <td>665</td>\n",
       "      <td>Kharghar</td>\n",
       "      <td>1</td>\n",
       "      <td>0</td>\n",
       "      <td>0</td>\n",
       "      <td>1</td>\n",
       "      <td>1</td>\n",
       "      <td>1</td>\n",
       "      <td>1</td>\n",
       "      <td>0</td>\n",
       "      <td>0</td>\n",
       "      <td>1</td>\n",
       "      <td>1</td>\n",
       "      <td>0</td>\n",
       "      <td>0</td>\n",
       "      <td>0</td>\n",
       "      <td>0</td>\n",
       "    </tr>\n",
       "  </tbody>\n",
       "</table>\n",
       "</div>"
      ],
      "text/plain": [
       "   Unnamed: 0    Price  Area  Location  No. of Bedrooms  New/Resale  \\\n",
       "0           0  4850000   720  Kharghar                1           0   \n",
       "1           1  4500000   600  Kharghar                1           0   \n",
       "2           2  6700000   650  Kharghar                1           0   \n",
       "3           3  4500000   650  Kharghar                1           0   \n",
       "4           4  5000000   665  Kharghar                1           0   \n",
       "\n",
       "   Gymnasium  Lift Available  Car Parking  Maintenance Staff  24x7 Security  \\\n",
       "0          0               1            1                  1              1   \n",
       "1          1               1            1                  1              1   \n",
       "2          1               1            1                  1              1   \n",
       "3          0               1            1                  1              1   \n",
       "4          0               1            1                  1              1   \n",
       "\n",
       "   Children's Play Area  Clubhouse  Intercom  Landscaped Gardens  \\\n",
       "0                     0          0         0                   0   \n",
       "1                     0          1         0                   0   \n",
       "2                     1          1         1                   0   \n",
       "3                     0          0         1                   1   \n",
       "4                     0          0         1                   1   \n",
       "\n",
       "   Indoor Games  Gas Connection  Jogging Track  Swimming Pool  \n",
       "0             0               0              0              0  \n",
       "1             0               0              1              1  \n",
       "2             0               0              1              1  \n",
       "3             0               0              0              0  \n",
       "4             0               0              0              0  "
      ]
     },
     "execution_count": 84,
     "metadata": {},
     "output_type": "execute_result"
    }
   ],
   "source": [
    "df1 = pd.read_csv(\"Mumbai1.csv\")\n",
    "df1.head()"
   ]
  },
  {
   "cell_type": "code",
   "execution_count": 85,
   "id": "bf341dfa",
   "metadata": {
    "execution": {
     "iopub.execute_input": "2022-10-04T14:17:40.034421Z",
     "iopub.status.busy": "2022-10-04T14:17:40.034011Z",
     "iopub.status.idle": "2022-10-04T14:17:40.040451Z",
     "shell.execute_reply": "2022-10-04T14:17:40.039622Z"
    },
    "id": "P5ymSDGYOLY_",
    "outputId": "fea47cc3-b5d6-4f09-db62-3094a2a10abd",
    "papermill": {
     "duration": 0.022455,
     "end_time": "2022-10-04T14:17:40.042466",
     "exception": false,
     "start_time": "2022-10-04T14:17:40.020011",
     "status": "completed"
    },
    "tags": []
   },
   "outputs": [
    {
     "data": {
      "text/plain": [
       "(6347, 19)"
      ]
     },
     "execution_count": 85,
     "metadata": {},
     "output_type": "execute_result"
    }
   ],
   "source": [
    "df1.shape"
   ]
  },
  {
   "cell_type": "code",
   "execution_count": 86,
   "id": "49ec4e72",
   "metadata": {
    "execution": {
     "iopub.execute_input": "2022-10-04T14:17:40.070652Z",
     "iopub.status.busy": "2022-10-04T14:17:40.070013Z",
     "iopub.status.idle": "2022-10-04T14:17:40.084941Z",
     "shell.execute_reply": "2022-10-04T14:17:40.084190Z"
    },
    "id": "vdYXgqVLQC7j",
    "outputId": "e1fa108c-6647-445d-f65c-28833040802b",
    "papermill": {
     "duration": 0.031755,
     "end_time": "2022-10-04T14:17:40.086871",
     "exception": false,
     "start_time": "2022-10-04T14:17:40.055116",
     "status": "completed"
    },
    "tags": []
   },
   "outputs": [
    {
     "data": {
      "text/plain": [
       "Area\n",
       "200     2\n",
       "216     1\n",
       "220     3\n",
       "225     6\n",
       "239     1\n",
       "       ..\n",
       "6381    1\n",
       "6900    1\n",
       "7000    1\n",
       "7600    1\n",
       "8511    1\n",
       "Name: Area, Length: 1140, dtype: int64"
      ]
     },
     "execution_count": 86,
     "metadata": {},
     "output_type": "execute_result"
    }
   ],
   "source": [
    "df1.groupby('Area')['Area'].agg('count')"
   ]
  },
  {
   "cell_type": "code",
   "execution_count": 87,
   "id": "14a18038",
   "metadata": {
    "execution": {
     "iopub.execute_input": "2022-10-04T14:17:40.114075Z",
     "iopub.status.busy": "2022-10-04T14:17:40.113683Z",
     "iopub.status.idle": "2022-10-04T14:17:40.129693Z",
     "shell.execute_reply": "2022-10-04T14:17:40.128698Z"
    },
    "id": "j1GXryJeOPmf",
    "outputId": "9e796fa0-d16b-4a3f-bfb1-b099549e38c2",
    "papermill": {
     "duration": 0.031934,
     "end_time": "2022-10-04T14:17:40.131830",
     "exception": false,
     "start_time": "2022-10-04T14:17:40.099896",
     "status": "completed"
    },
    "tags": []
   },
   "outputs": [
    {
     "data": {
      "text/html": [
       "<div>\n",
       "<style scoped>\n",
       "    .dataframe tbody tr th:only-of-type {\n",
       "        vertical-align: middle;\n",
       "    }\n",
       "\n",
       "    .dataframe tbody tr th {\n",
       "        vertical-align: top;\n",
       "    }\n",
       "\n",
       "    .dataframe thead th {\n",
       "        text-align: right;\n",
       "    }\n",
       "</style>\n",
       "<table border=\"1\" class=\"dataframe\">\n",
       "  <thead>\n",
       "    <tr style=\"text-align: right;\">\n",
       "      <th></th>\n",
       "      <th>Unnamed: 0</th>\n",
       "      <th>Price</th>\n",
       "      <th>Area</th>\n",
       "      <th>Location</th>\n",
       "      <th>No. of Bedrooms</th>\n",
       "      <th>Gymnasium</th>\n",
       "      <th>Lift Available</th>\n",
       "      <th>Car Parking</th>\n",
       "      <th>Maintenance Staff</th>\n",
       "      <th>24x7 Security</th>\n",
       "      <th>Children's Play Area</th>\n",
       "      <th>Clubhouse</th>\n",
       "      <th>Intercom</th>\n",
       "    </tr>\n",
       "  </thead>\n",
       "  <tbody>\n",
       "    <tr>\n",
       "      <th>0</th>\n",
       "      <td>0</td>\n",
       "      <td>4850000</td>\n",
       "      <td>720</td>\n",
       "      <td>Kharghar</td>\n",
       "      <td>1</td>\n",
       "      <td>0</td>\n",
       "      <td>1</td>\n",
       "      <td>1</td>\n",
       "      <td>1</td>\n",
       "      <td>1</td>\n",
       "      <td>0</td>\n",
       "      <td>0</td>\n",
       "      <td>0</td>\n",
       "    </tr>\n",
       "    <tr>\n",
       "      <th>1</th>\n",
       "      <td>1</td>\n",
       "      <td>4500000</td>\n",
       "      <td>600</td>\n",
       "      <td>Kharghar</td>\n",
       "      <td>1</td>\n",
       "      <td>1</td>\n",
       "      <td>1</td>\n",
       "      <td>1</td>\n",
       "      <td>1</td>\n",
       "      <td>1</td>\n",
       "      <td>0</td>\n",
       "      <td>1</td>\n",
       "      <td>0</td>\n",
       "    </tr>\n",
       "    <tr>\n",
       "      <th>2</th>\n",
       "      <td>2</td>\n",
       "      <td>6700000</td>\n",
       "      <td>650</td>\n",
       "      <td>Kharghar</td>\n",
       "      <td>1</td>\n",
       "      <td>1</td>\n",
       "      <td>1</td>\n",
       "      <td>1</td>\n",
       "      <td>1</td>\n",
       "      <td>1</td>\n",
       "      <td>1</td>\n",
       "      <td>1</td>\n",
       "      <td>1</td>\n",
       "    </tr>\n",
       "    <tr>\n",
       "      <th>3</th>\n",
       "      <td>3</td>\n",
       "      <td>4500000</td>\n",
       "      <td>650</td>\n",
       "      <td>Kharghar</td>\n",
       "      <td>1</td>\n",
       "      <td>0</td>\n",
       "      <td>1</td>\n",
       "      <td>1</td>\n",
       "      <td>1</td>\n",
       "      <td>1</td>\n",
       "      <td>0</td>\n",
       "      <td>0</td>\n",
       "      <td>1</td>\n",
       "    </tr>\n",
       "    <tr>\n",
       "      <th>4</th>\n",
       "      <td>4</td>\n",
       "      <td>5000000</td>\n",
       "      <td>665</td>\n",
       "      <td>Kharghar</td>\n",
       "      <td>1</td>\n",
       "      <td>0</td>\n",
       "      <td>1</td>\n",
       "      <td>1</td>\n",
       "      <td>1</td>\n",
       "      <td>1</td>\n",
       "      <td>0</td>\n",
       "      <td>0</td>\n",
       "      <td>1</td>\n",
       "    </tr>\n",
       "  </tbody>\n",
       "</table>\n",
       "</div>"
      ],
      "text/plain": [
       "   Unnamed: 0    Price  Area  Location  No. of Bedrooms  Gymnasium  \\\n",
       "0           0  4850000   720  Kharghar                1          0   \n",
       "1           1  4500000   600  Kharghar                1          1   \n",
       "2           2  6700000   650  Kharghar                1          1   \n",
       "3           3  4500000   650  Kharghar                1          0   \n",
       "4           4  5000000   665  Kharghar                1          0   \n",
       "\n",
       "   Lift Available  Car Parking  Maintenance Staff  24x7 Security  \\\n",
       "0               1            1                  1              1   \n",
       "1               1            1                  1              1   \n",
       "2               1            1                  1              1   \n",
       "3               1            1                  1              1   \n",
       "4               1            1                  1              1   \n",
       "\n",
       "   Children's Play Area  Clubhouse  Intercom  \n",
       "0                     0          0         0  \n",
       "1                     0          1         0  \n",
       "2                     1          1         1  \n",
       "3                     0          0         1  \n",
       "4                     0          0         1  "
      ]
     },
     "execution_count": 87,
     "metadata": {},
     "output_type": "execute_result"
    }
   ],
   "source": [
    "df2 = df1.drop(['Landscaped Gardens','Jogging Track','Swimming Pool','Indoor Games','New/Resale','Gas Connection'],axis='columns')\n",
    "df2.head()"
   ]
  },
  {
   "cell_type": "code",
   "execution_count": 88,
   "id": "f1fb9381",
   "metadata": {
    "execution": {
     "iopub.execute_input": "2022-10-04T14:17:40.159722Z",
     "iopub.status.busy": "2022-10-04T14:17:40.159330Z",
     "iopub.status.idle": "2022-10-04T14:17:40.166159Z",
     "shell.execute_reply": "2022-10-04T14:17:40.164957Z"
    },
    "id": "bPBt6nF0Pspm",
    "papermill": {
     "duration": 0.023194,
     "end_time": "2022-10-04T14:17:40.168420",
     "exception": false,
     "start_time": "2022-10-04T14:17:40.145226",
     "status": "completed"
    },
    "tags": []
   },
   "outputs": [],
   "source": [
    "df2.drop(columns=df2.columns[0], \n",
    "        axis=1, \n",
    "        inplace=True)"
   ]
  },
  {
   "cell_type": "code",
   "execution_count": 89,
   "id": "1fa26b96",
   "metadata": {
    "execution": {
     "iopub.execute_input": "2022-10-04T14:17:40.195381Z",
     "iopub.status.busy": "2022-10-04T14:17:40.194998Z",
     "iopub.status.idle": "2022-10-04T14:17:40.208615Z",
     "shell.execute_reply": "2022-10-04T14:17:40.207598Z"
    },
    "id": "XgjJmQmUToxU",
    "outputId": "4dcfed11-bfca-4b86-f80f-426960b90ccf",
    "papermill": {
     "duration": 0.029716,
     "end_time": "2022-10-04T14:17:40.210802",
     "exception": false,
     "start_time": "2022-10-04T14:17:40.181086",
     "status": "completed"
    },
    "tags": []
   },
   "outputs": [
    {
     "data": {
      "text/html": [
       "<div>\n",
       "<style scoped>\n",
       "    .dataframe tbody tr th:only-of-type {\n",
       "        vertical-align: middle;\n",
       "    }\n",
       "\n",
       "    .dataframe tbody tr th {\n",
       "        vertical-align: top;\n",
       "    }\n",
       "\n",
       "    .dataframe thead th {\n",
       "        text-align: right;\n",
       "    }\n",
       "</style>\n",
       "<table border=\"1\" class=\"dataframe\">\n",
       "  <thead>\n",
       "    <tr style=\"text-align: right;\">\n",
       "      <th></th>\n",
       "      <th>Price</th>\n",
       "      <th>Area</th>\n",
       "      <th>Location</th>\n",
       "      <th>No. of Bedrooms</th>\n",
       "      <th>Gymnasium</th>\n",
       "      <th>Lift Available</th>\n",
       "      <th>Car Parking</th>\n",
       "      <th>Maintenance Staff</th>\n",
       "      <th>24x7 Security</th>\n",
       "      <th>Children's Play Area</th>\n",
       "      <th>Clubhouse</th>\n",
       "      <th>Intercom</th>\n",
       "    </tr>\n",
       "  </thead>\n",
       "  <tbody>\n",
       "    <tr>\n",
       "      <th>0</th>\n",
       "      <td>4850000</td>\n",
       "      <td>720</td>\n",
       "      <td>Kharghar</td>\n",
       "      <td>1</td>\n",
       "      <td>0</td>\n",
       "      <td>1</td>\n",
       "      <td>1</td>\n",
       "      <td>1</td>\n",
       "      <td>1</td>\n",
       "      <td>0</td>\n",
       "      <td>0</td>\n",
       "      <td>0</td>\n",
       "    </tr>\n",
       "    <tr>\n",
       "      <th>1</th>\n",
       "      <td>4500000</td>\n",
       "      <td>600</td>\n",
       "      <td>Kharghar</td>\n",
       "      <td>1</td>\n",
       "      <td>1</td>\n",
       "      <td>1</td>\n",
       "      <td>1</td>\n",
       "      <td>1</td>\n",
       "      <td>1</td>\n",
       "      <td>0</td>\n",
       "      <td>1</td>\n",
       "      <td>0</td>\n",
       "    </tr>\n",
       "    <tr>\n",
       "      <th>2</th>\n",
       "      <td>6700000</td>\n",
       "      <td>650</td>\n",
       "      <td>Kharghar</td>\n",
       "      <td>1</td>\n",
       "      <td>1</td>\n",
       "      <td>1</td>\n",
       "      <td>1</td>\n",
       "      <td>1</td>\n",
       "      <td>1</td>\n",
       "      <td>1</td>\n",
       "      <td>1</td>\n",
       "      <td>1</td>\n",
       "    </tr>\n",
       "    <tr>\n",
       "      <th>3</th>\n",
       "      <td>4500000</td>\n",
       "      <td>650</td>\n",
       "      <td>Kharghar</td>\n",
       "      <td>1</td>\n",
       "      <td>0</td>\n",
       "      <td>1</td>\n",
       "      <td>1</td>\n",
       "      <td>1</td>\n",
       "      <td>1</td>\n",
       "      <td>0</td>\n",
       "      <td>0</td>\n",
       "      <td>1</td>\n",
       "    </tr>\n",
       "    <tr>\n",
       "      <th>4</th>\n",
       "      <td>5000000</td>\n",
       "      <td>665</td>\n",
       "      <td>Kharghar</td>\n",
       "      <td>1</td>\n",
       "      <td>0</td>\n",
       "      <td>1</td>\n",
       "      <td>1</td>\n",
       "      <td>1</td>\n",
       "      <td>1</td>\n",
       "      <td>0</td>\n",
       "      <td>0</td>\n",
       "      <td>1</td>\n",
       "    </tr>\n",
       "  </tbody>\n",
       "</table>\n",
       "</div>"
      ],
      "text/plain": [
       "     Price  Area  Location  No. of Bedrooms  Gymnasium  Lift Available  \\\n",
       "0  4850000   720  Kharghar                1          0               1   \n",
       "1  4500000   600  Kharghar                1          1               1   \n",
       "2  6700000   650  Kharghar                1          1               1   \n",
       "3  4500000   650  Kharghar                1          0               1   \n",
       "4  5000000   665  Kharghar                1          0               1   \n",
       "\n",
       "   Car Parking  Maintenance Staff  24x7 Security  Children's Play Area  \\\n",
       "0            1                  1              1                     0   \n",
       "1            1                  1              1                     0   \n",
       "2            1                  1              1                     1   \n",
       "3            1                  1              1                     0   \n",
       "4            1                  1              1                     0   \n",
       "\n",
       "   Clubhouse  Intercom  \n",
       "0          0         0  \n",
       "1          1         0  \n",
       "2          1         1  \n",
       "3          0         1  \n",
       "4          0         1  "
      ]
     },
     "execution_count": 89,
     "metadata": {},
     "output_type": "execute_result"
    }
   ],
   "source": [
    "df2.head()"
   ]
  },
  {
   "cell_type": "code",
   "execution_count": 90,
   "id": "26f07fee",
   "metadata": {
    "execution": {
     "iopub.execute_input": "2022-10-04T14:17:40.238758Z",
     "iopub.status.busy": "2022-10-04T14:17:40.238355Z",
     "iopub.status.idle": "2022-10-04T14:17:40.248681Z",
     "shell.execute_reply": "2022-10-04T14:17:40.247553Z"
    },
    "id": "LTyPcbAQQnKU",
    "outputId": "bef22a45-e47d-4006-b120-cf8a3c8ce652",
    "papermill": {
     "duration": 0.026834,
     "end_time": "2022-10-04T14:17:40.250855",
     "exception": false,
     "start_time": "2022-10-04T14:17:40.224021",
     "status": "completed"
    },
    "tags": []
   },
   "outputs": [
    {
     "data": {
      "text/plain": [
       "Price                   0\n",
       "Area                    0\n",
       "Location                0\n",
       "No. of Bedrooms         0\n",
       "Gymnasium               0\n",
       "Lift Available          0\n",
       "Car Parking             0\n",
       "Maintenance Staff       0\n",
       "24x7 Security           0\n",
       "Children's Play Area    0\n",
       "Clubhouse               0\n",
       "Intercom                0\n",
       "dtype: int64"
      ]
     },
     "execution_count": 90,
     "metadata": {},
     "output_type": "execute_result"
    }
   ],
   "source": [
    "df2.isnull().sum()"
   ]
  },
  {
   "cell_type": "code",
   "execution_count": 91,
   "id": "a31b0473",
   "metadata": {
    "execution": {
     "iopub.execute_input": "2022-10-04T14:17:40.279179Z",
     "iopub.status.busy": "2022-10-04T14:17:40.278775Z",
     "iopub.status.idle": "2022-10-04T14:17:40.292349Z",
     "shell.execute_reply": "2022-10-04T14:17:40.291210Z"
    },
    "id": "IkCBi_dRQxUT",
    "outputId": "7f8d1c50-f009-44be-8d70-ce1b8e017634",
    "papermill": {
     "duration": 0.030352,
     "end_time": "2022-10-04T14:17:40.294532",
     "exception": false,
     "start_time": "2022-10-04T14:17:40.264180",
     "status": "completed"
    },
    "tags": []
   },
   "outputs": [
    {
     "data": {
      "text/plain": [
       "Price                   0\n",
       "Area                    0\n",
       "Location                0\n",
       "No. of Bedrooms         0\n",
       "Gymnasium               0\n",
       "Lift Available          0\n",
       "Car Parking             0\n",
       "Maintenance Staff       0\n",
       "24x7 Security           0\n",
       "Children's Play Area    0\n",
       "Clubhouse               0\n",
       "Intercom                0\n",
       "dtype: int64"
      ]
     },
     "execution_count": 91,
     "metadata": {},
     "output_type": "execute_result"
    }
   ],
   "source": [
    "df3 = df2.dropna()\n",
    "df3.isnull().sum()"
   ]
  },
  {
   "cell_type": "code",
   "execution_count": 92,
   "id": "883994b9",
   "metadata": {
    "execution": {
     "iopub.execute_input": "2022-10-04T14:17:40.323963Z",
     "iopub.status.busy": "2022-10-04T14:17:40.323065Z",
     "iopub.status.idle": "2022-10-04T14:17:40.329955Z",
     "shell.execute_reply": "2022-10-04T14:17:40.328861Z"
    },
    "id": "Mu-X3T2wQ_iB",
    "outputId": "e5463b05-f1d6-4eb6-af45-106bca024553",
    "papermill": {
     "duration": 0.02372,
     "end_time": "2022-10-04T14:17:40.332071",
     "exception": false,
     "start_time": "2022-10-04T14:17:40.308351",
     "status": "completed"
    },
    "tags": []
   },
   "outputs": [
    {
     "data": {
      "text/plain": [
       "(6347, 12)"
      ]
     },
     "execution_count": 92,
     "metadata": {},
     "output_type": "execute_result"
    }
   ],
   "source": [
    "df3.shape"
   ]
  },
  {
   "cell_type": "code",
   "execution_count": 93,
   "id": "a3a9b082",
   "metadata": {
    "execution": {
     "iopub.execute_input": "2022-10-04T14:17:40.361943Z",
     "iopub.status.busy": "2022-10-04T14:17:40.361569Z",
     "iopub.status.idle": "2022-10-04T14:17:40.369238Z",
     "shell.execute_reply": "2022-10-04T14:17:40.368030Z"
    },
    "id": "yKVaQzB3REXZ",
    "outputId": "379e6123-7417-4a1a-bbc6-0a62507adde9",
    "papermill": {
     "duration": 0.026053,
     "end_time": "2022-10-04T14:17:40.371582",
     "exception": false,
     "start_time": "2022-10-04T14:17:40.345529",
     "status": "completed"
    },
    "tags": []
   },
   "outputs": [
    {
     "data": {
      "text/plain": [
       "array([1, 4, 3, 2, 5, 6, 7])"
      ]
     },
     "execution_count": 93,
     "metadata": {},
     "output_type": "execute_result"
    }
   ],
   "source": [
    "df3['No. of Bedrooms'].unique()"
   ]
  },
  {
   "cell_type": "code",
   "execution_count": 94,
   "id": "8ef01182",
   "metadata": {
    "execution": {
     "iopub.execute_input": "2022-10-04T14:17:40.400464Z",
     "iopub.status.busy": "2022-10-04T14:17:40.400069Z",
     "iopub.status.idle": "2022-10-04T14:17:40.407200Z",
     "shell.execute_reply": "2022-10-04T14:17:40.406391Z"
    },
    "id": "BPurzUzSSbrW",
    "outputId": "985fc6ab-1b7a-46a3-83de-532b6589fdf9",
    "papermill": {
     "duration": 0.023837,
     "end_time": "2022-10-04T14:17:40.409170",
     "exception": false,
     "start_time": "2022-10-04T14:17:40.385333",
     "status": "completed"
    },
    "tags": []
   },
   "outputs": [
    {
     "data": {
      "text/plain": [
       "array([ 720,  600,  650, ...,  250, 1162,  435])"
      ]
     },
     "execution_count": 94,
     "metadata": {},
     "output_type": "execute_result"
    }
   ],
   "source": [
    "df3['Area'].unique()"
   ]
  },
  {
   "cell_type": "code",
   "execution_count": 95,
   "id": "9a73db83",
   "metadata": {
    "execution": {
     "iopub.execute_input": "2022-10-04T14:17:40.438511Z",
     "iopub.status.busy": "2022-10-04T14:17:40.438109Z",
     "iopub.status.idle": "2022-10-04T14:17:40.445599Z",
     "shell.execute_reply": "2022-10-04T14:17:40.444554Z"
    },
    "id": "2yHJ3KUEUJFi",
    "papermill": {
     "duration": 0.025021,
     "end_time": "2022-10-04T14:17:40.447951",
     "exception": false,
     "start_time": "2022-10-04T14:17:40.422930",
     "status": "completed"
    },
    "tags": []
   },
   "outputs": [],
   "source": [
    "df4 = df3.copy()\n",
    "df4['Price_per_sqft'] = df4['Price']/df4['Area']"
   ]
  },
  {
   "cell_type": "code",
   "execution_count": 96,
   "id": "dd2eb59d",
   "metadata": {
    "execution": {
     "iopub.execute_input": "2022-10-04T14:17:40.477320Z",
     "iopub.status.busy": "2022-10-04T14:17:40.476892Z",
     "iopub.status.idle": "2022-10-04T14:17:40.492152Z",
     "shell.execute_reply": "2022-10-04T14:17:40.491046Z"
    },
    "id": "6sC8GzopUjkr",
    "outputId": "3dc4708c-d0ba-49b9-e30c-c6d98bc90013",
    "papermill": {
     "duration": 0.032732,
     "end_time": "2022-10-04T14:17:40.494476",
     "exception": false,
     "start_time": "2022-10-04T14:17:40.461744",
     "status": "completed"
    },
    "tags": []
   },
   "outputs": [
    {
     "data": {
      "text/html": [
       "<div>\n",
       "<style scoped>\n",
       "    .dataframe tbody tr th:only-of-type {\n",
       "        vertical-align: middle;\n",
       "    }\n",
       "\n",
       "    .dataframe tbody tr th {\n",
       "        vertical-align: top;\n",
       "    }\n",
       "\n",
       "    .dataframe thead th {\n",
       "        text-align: right;\n",
       "    }\n",
       "</style>\n",
       "<table border=\"1\" class=\"dataframe\">\n",
       "  <thead>\n",
       "    <tr style=\"text-align: right;\">\n",
       "      <th></th>\n",
       "      <th>Price</th>\n",
       "      <th>Area</th>\n",
       "      <th>Location</th>\n",
       "      <th>No. of Bedrooms</th>\n",
       "      <th>Gymnasium</th>\n",
       "      <th>Lift Available</th>\n",
       "      <th>Car Parking</th>\n",
       "      <th>Maintenance Staff</th>\n",
       "      <th>24x7 Security</th>\n",
       "      <th>Children's Play Area</th>\n",
       "      <th>Clubhouse</th>\n",
       "      <th>Intercom</th>\n",
       "      <th>Price_per_sqft</th>\n",
       "    </tr>\n",
       "  </thead>\n",
       "  <tbody>\n",
       "    <tr>\n",
       "      <th>0</th>\n",
       "      <td>4850000</td>\n",
       "      <td>720</td>\n",
       "      <td>Kharghar</td>\n",
       "      <td>1</td>\n",
       "      <td>0</td>\n",
       "      <td>1</td>\n",
       "      <td>1</td>\n",
       "      <td>1</td>\n",
       "      <td>1</td>\n",
       "      <td>0</td>\n",
       "      <td>0</td>\n",
       "      <td>0</td>\n",
       "      <td>6736.111111</td>\n",
       "    </tr>\n",
       "    <tr>\n",
       "      <th>1</th>\n",
       "      <td>4500000</td>\n",
       "      <td>600</td>\n",
       "      <td>Kharghar</td>\n",
       "      <td>1</td>\n",
       "      <td>1</td>\n",
       "      <td>1</td>\n",
       "      <td>1</td>\n",
       "      <td>1</td>\n",
       "      <td>1</td>\n",
       "      <td>0</td>\n",
       "      <td>1</td>\n",
       "      <td>0</td>\n",
       "      <td>7500.000000</td>\n",
       "    </tr>\n",
       "    <tr>\n",
       "      <th>2</th>\n",
       "      <td>6700000</td>\n",
       "      <td>650</td>\n",
       "      <td>Kharghar</td>\n",
       "      <td>1</td>\n",
       "      <td>1</td>\n",
       "      <td>1</td>\n",
       "      <td>1</td>\n",
       "      <td>1</td>\n",
       "      <td>1</td>\n",
       "      <td>1</td>\n",
       "      <td>1</td>\n",
       "      <td>1</td>\n",
       "      <td>10307.692308</td>\n",
       "    </tr>\n",
       "    <tr>\n",
       "      <th>3</th>\n",
       "      <td>4500000</td>\n",
       "      <td>650</td>\n",
       "      <td>Kharghar</td>\n",
       "      <td>1</td>\n",
       "      <td>0</td>\n",
       "      <td>1</td>\n",
       "      <td>1</td>\n",
       "      <td>1</td>\n",
       "      <td>1</td>\n",
       "      <td>0</td>\n",
       "      <td>0</td>\n",
       "      <td>1</td>\n",
       "      <td>6923.076923</td>\n",
       "    </tr>\n",
       "    <tr>\n",
       "      <th>4</th>\n",
       "      <td>5000000</td>\n",
       "      <td>665</td>\n",
       "      <td>Kharghar</td>\n",
       "      <td>1</td>\n",
       "      <td>0</td>\n",
       "      <td>1</td>\n",
       "      <td>1</td>\n",
       "      <td>1</td>\n",
       "      <td>1</td>\n",
       "      <td>0</td>\n",
       "      <td>0</td>\n",
       "      <td>1</td>\n",
       "      <td>7518.796992</td>\n",
       "    </tr>\n",
       "  </tbody>\n",
       "</table>\n",
       "</div>"
      ],
      "text/plain": [
       "     Price  Area  Location  No. of Bedrooms  Gymnasium  Lift Available  \\\n",
       "0  4850000   720  Kharghar                1          0               1   \n",
       "1  4500000   600  Kharghar                1          1               1   \n",
       "2  6700000   650  Kharghar                1          1               1   \n",
       "3  4500000   650  Kharghar                1          0               1   \n",
       "4  5000000   665  Kharghar                1          0               1   \n",
       "\n",
       "   Car Parking  Maintenance Staff  24x7 Security  Children's Play Area  \\\n",
       "0            1                  1              1                     0   \n",
       "1            1                  1              1                     0   \n",
       "2            1                  1              1                     1   \n",
       "3            1                  1              1                     0   \n",
       "4            1                  1              1                     0   \n",
       "\n",
       "   Clubhouse  Intercom  Price_per_sqft  \n",
       "0          0         0     6736.111111  \n",
       "1          1         0     7500.000000  \n",
       "2          1         1    10307.692308  \n",
       "3          0         1     6923.076923  \n",
       "4          0         1     7518.796992  "
      ]
     },
     "execution_count": 96,
     "metadata": {},
     "output_type": "execute_result"
    }
   ],
   "source": [
    "df4.head()"
   ]
  },
  {
   "cell_type": "code",
   "execution_count": 97,
   "id": "19ca021a",
   "metadata": {
    "execution": {
     "iopub.execute_input": "2022-10-04T14:17:40.524057Z",
     "iopub.status.busy": "2022-10-04T14:17:40.523699Z",
     "iopub.status.idle": "2022-10-04T14:17:40.531736Z",
     "shell.execute_reply": "2022-10-04T14:17:40.530988Z"
    },
    "id": "ytwkagweUzpb",
    "outputId": "867cf860-87eb-45b1-ede9-2b20a66d26da",
    "papermill": {
     "duration": 0.025164,
     "end_time": "2022-10-04T14:17:40.533825",
     "exception": false,
     "start_time": "2022-10-04T14:17:40.508661",
     "status": "completed"
    },
    "tags": []
   },
   "outputs": [
    {
     "data": {
      "text/plain": [
       "array(['Kharghar', 'Sector-13 Kharghar', 'Sector 18 Kharghar',\n",
       "       'Sector 20 Kharghar', 'Sector 15 Kharghar', 'Dombivali',\n",
       "       'Churchgate', 'Prabhadevi', 'Jogeshwari West', 'Kalyan East',\n",
       "       'Malad East', 'Virar East', 'Virar', 'Malad West', 'Borivali East',\n",
       "       'Mira Road East', 'Goregaon West', 'Kandivali West',\n",
       "       'Borivali West', 'Kandivali East', 'Andheri East', 'Goregaon East',\n",
       "       'Wadala', 'Ulwe', 'Dahisar', 'kandivali', 'Goregaon',\n",
       "       'Bhandup West', 'thakur village kandivali east', 'Santacruz West',\n",
       "       'Kanjurmarg', 'I C Colony', 'Dahisar W', 'Marol', 'Parel',\n",
       "       'Lower Parel', 'Worli', 'Jogeshwari East', 'Chembur Shell Colony',\n",
       "       'Central Avenue', 'Chembur East', 'Diamond Market Road', 'Mulund',\n",
       "       'Nalasopara West', 'raheja vihar', 'Powai Lake', 'MHADA Colony 20',\n",
       "       'Tolaram Colony', 'Taloja', 'Thane West', 'Vangani',\n",
       "       'Sector 5 Ulwe', 'Sector12 New Panvel', 'Sector 17 Ulwe',\n",
       "       'Sector9 Kamothe', 'Sector 19 Kharghar', 'Navi Basti',\n",
       "       'Sector12 Kamothe', 'Sector 21 Kamothe', 'Rutu Enclave',\n",
       "       'taloja panchanand', 'Virar West', 'Chembur', 'Sector 20 Kamothe',\n",
       "       'Sector 22 Kamothe', 'Sector 18 Kamothe', 'Sector-5 Kamothe',\n",
       "       'Sector-6A Kamothe', 'Sector 11 Kamothe', 'Sector-18 Ulwe',\n",
       "       'Sector-12 Kamothe', 'azad nagar', 'Sindhi Society Chembur',\n",
       "       'Kurla', 'Sahkar Nagar', 'Deonar', 'Thane', 'Jankalyan Nagar',\n",
       "       'Badlapur', 'Ambarnath', 'Ambernath West', 'Vakola', 'Kamothe',\n",
       "       'Kamothe Sector 16', 'Almeida Park', 'Khar', 'Bandra West',\n",
       "       'Pali Hill', '15th Road', 'Palghar', 'Sector13 Kharghar',\n",
       "       'Sector 21 Kharghar', 'Sector 12 Kharghar', 'Vivek Vidyalaya Marg',\n",
       "       'Vasai east', 'Nahur', 'Badlapur West', 'Panvel', 'Kalyan',\n",
       "       'Badlapur East', 'Mira Bhayandar', 'Juhu', 'Naigaon East',\n",
       "       'Sector 21 Ulwe', 'Bandra East', 'Dronagiri', 'Nerul', 'Karanjade',\n",
       "       'Sanpada', 'Sector-8 Ulwe', 'Sector-3 Ulwe', 'Sector 23 Ulwe',\n",
       "       'ULWE SECTOR 19', 'Ghodbunder Road', 'Bhiwandi', 'Vasai',\n",
       "       'Nala Sopara', 'Dadar East', 'Ghatkopar', 'Breach Candy',\n",
       "       'Worli South Mumbai', 'Asangaon', 'Koparkhairane Station Road',\n",
       "       'Kopar Khairane Sector 19A', 'Koper Khairane',\n",
       "       'Eastern Express Highway Vikhroli', 'Magathane', 'Rawal Pada',\n",
       "       'Ambernath East', 'Dokali Pada', 'Dattapada', 'Rajendra Nagar',\n",
       "       'Kulupwadi', 'Samata Nagar Thakur Village', 'Mira Road and Beyond',\n",
       "       'West Amardeep Colony', 'Pant Nagar', 'mumbai', 'Four Bungalows',\n",
       "       'no 9', 'kolshet', 'Hiranandani Meadows', 'Kalpataru', 'Petali',\n",
       "       'Kharghar Sector 34C', 'Ghatkopar East',\n",
       "       'Mumbai Agra National Highway', 'vasant vihar thane west',\n",
       "       'Kalyan West', 'Shirgaon', 'Pokhran 2', 'juhu tara', 'Peddar Road',\n",
       "       'Palm Beach', 'Sector 10', 'Sector 19 Kamothe', 'Tilak Nagar',\n",
       "       'Ghatkopar West', 'Tardeo', 'Napeansea Road', 'Mahalaxmi',\n",
       "       'Dahisar West', 'Mulund West', 'Natakwala Lane', 'Link Road',\n",
       "       'Devidas Cross Lane', 'Soniwadi Road', 'Haridas Nagar', 'Shimpoli',\n",
       "       'TPS Road', 'Off Shimpoli road', 'Rustomjee Global City',\n",
       "       'Sunil Nagar', 'Sector 30 Kharghar', 'Sector 12 A', 'Sector 18',\n",
       "       'Sector13 Khanda Colony', 'Sector16 Airoli', 'Ranjanpada',\n",
       "       'Sector 15', 'Sector 35G', 'Sector 5', 'Sector 35I Kharghar',\n",
       "       'Sector35D Kharghar', 'Sector34 A Kharghar', 'Sector 30',\n",
       "       'Sector 36 Kharghar', 'Sector 11 Belapur', 'Sector-34B Kharghar',\n",
       "       'Dombivali East', 'Roadpali', 'Sector-50 Seawoods',\n",
       "       'Mumbai Highway', 'Sector 7 Kharghar', 'Lokhandwala Township',\n",
       "       'Andheri', 'Andheri West', 'Shastri Nagar', 'Wadala East Wadala',\n",
       "       'Kalwa', 'PARSIK NAGAR', 'Maharashtra Nagar', 'Patlipada',\n",
       "       'Belapur', 'Seawoods', 'Majiwada', '4 Bunglows', 'Airoli',\n",
       "       'Kolshet Road', 'Sector 10 Khanda Colony', 'Pokharan Road',\n",
       "       'Kharegaon', 'Panch Pakhadi', 'Sector 36 Kamothe',\n",
       "       'Dombivli (West)', 'DN Nagar Road', 'Godrej Hill', 'Ganesh Nagar',\n",
       "       'Haware City', 'Mahatma Gandhi Road', 'Akurli Nagar',\n",
       "       'Kasar vadavali', 'Vasai West', 'Mumbai Nashik Expressway',\n",
       "       'Katrap', 'Mira Road', 'Kasheli',\n",
       "       'Western Express Highway Kandivali East', 'Vasind', 'KASHELI',\n",
       "       'Thakurli', 'Shakti Nagar', 'Bhayandar East', 'Dahisar East',\n",
       "       'ulhasnagar 4', 'Sector-26 Taloja', 'Koproli', 'Mumbai Central',\n",
       "       'Greater Khanda', 'link road borivali west', 'Manpada',\n",
       "       'Sector 2 Ulwe', 'Govind nagar', 'Krishanlal Marwah Marg',\n",
       "       'Sector-9 Ulwe', 'Vikhroli', 'Kalamboli', 'Lokhandwala',\n",
       "       'Patel Nagar', 'Yari Road', 'Thakur complex', 'Khar West',\n",
       "       'Sector 11 Kharghar', 'Ghansoli', 'Sector8 Sanpada',\n",
       "       'Jeejamata Nagar', 'Pandurangwadi', 'Shreyas Colony',\n",
       "       'Kannamwar Nagar II', 'gokuldham', 'Bangur Nagar',\n",
       "       'Shivaji Colony', 'Jawahar Nagar', 'Vedant Complex', 'Titwala',\n",
       "       'Manvel pada Road', 'Govandi', 'Shilphata Road Thane',\n",
       "       'Vasant Vihar', 'Thakur Village', 'Samata nagar', 'Wadi Bandar',\n",
       "       'Kapurbawadi', 'Thane Belapur Road Kalwa', 'Suburbs Mumbai',\n",
       "       'Ramdev Park', 'Sector-35 Kamothe',\n",
       "       'Sector 58A Seawoods Navi Mumbai', 'Diva', 'Borivali',\n",
       "       'Gundavali Gaothan', 'Kondivita Road', 'Koldongri', 'Saki Naka',\n",
       "       'Bhayandar West', 'Versova', 'Hanuman Nagar', 'worli sea face ',\n",
       "       'Sea Face', 'Shiv Sagar Estate', 'Grant Road West', 'Sriprastha',\n",
       "       'Off Nepean Sea Road', 'Morya Nagar', 'Upper Worli',\n",
       "       'worli sea Fase', 'Powai', 'Agripada', 'Sion', 'Girgaon',\n",
       "       'IT Colony', 'Bhayandarpada', 'Sector-24 Kamothe', 'Phase 2',\n",
       "       'Sector 6', 'Malad', 'Haji Ali', 'Majiwada thane', 'Yogi Hills',\n",
       "       'Sector 19 Nerul', 'Owale', 'MG Road', 'roadpali navimumbai',\n",
       "       'Taloja Bypass Nitalas Link Road', 'Rasayani', 'Sector 10 Kamothe',\n",
       "       'kavesar', 'Kopara', 'royal palms goregaon east', 'Dadar West',\n",
       "       'vrindavan society', 'CBD Belapur East', 'Parel Village',\n",
       "       'Karave Nagar', 'Sector 19A Nerul', 'Antop Hill', 'Suman Nagar',\n",
       "       'Bhakti Park', 'Hanuman Chowk', 'Willingdon', 'VishnuNagar',\n",
       "       'Vichumbe', 'Vashi', 'Poonam Sagar Complex', 'Santacruz East',\n",
       "       'Mulund East', 'Sector-8 Sanpada', 'Sector-9 Ghansoli', 'Balkum',\n",
       "       'Hiranandani Estates', 'Vartak Nagar', 'Charkop', 'dhanukarwadi',\n",
       "       'Vazira', 'Four Bunglows', 'Palava',\n",
       "       'Oshiwara Police Station Road', 'Seven Bunglow', 'Poddar Road',\n",
       "       'Gulmohar Road', 'Vile Parle E', 'Pokhran Road No 2',\n",
       "       'Sainath Nagar', 'Kapur Bawdi', 'Manpada near Tiku ji ni wadi',\n",
       "       'Kolshet Industrial Area', 'Sector16 Ulwe',\n",
       "       'Anand Nagar Thane West', 'Charkop Sector 8', 'Vile Parle',\n",
       "       'Marine Lines', 'Bandra Kurla Complex', 'sec 50 new',\n",
       "       'Vakola Pipeline Road', 'Neral', 'Shil Phata', 'Ville Parle East',\n",
       "       'matunga east', 'Dharavi', 'vile parle west', 'Anjurdive', 'Uran',\n",
       "       'Boisar', 'Kanjurmarg East', 'Kurla West', 'Sewri', 'Matunga',\n",
       "       'Goregaon (East)', 'Malabar Hill', 'Ambivali', 'Nalasopara East',\n",
       "       'Vijay Nagar', 'Chedda Nagar', 'Kurla East', 'Kharodi',\n",
       "       'Ville Parle West', 'Vikhroli West', 'Wadala East', 'Palidevad',\n",
       "       'Vikroli East', 'Mahim', 'Khalapur', 'Karjat', 'Vitthalwadi',\n",
       "       'Bhoiwada Kalyan', 'Beturkar Pada', 'Ambivli', 'Nilje Gaon',\n",
       "       'Khopoli', 'Taloje', 'Gulal Wadi', 'Tilak Nagar Mumbai',\n",
       "       'Chandivali', 'Nere', 'Kewale', 'Sector 9 Airoli', 'Diva Gaon',\n",
       "       'Sen Nagar', 'Adaigaon', 'Syndicate', 'Gandhar Nagar', 'Byculla',\n",
       "       'Padle Gaon'], dtype=object)"
      ]
     },
     "execution_count": 97,
     "metadata": {},
     "output_type": "execute_result"
    }
   ],
   "source": [
    "df4['Location'].unique()\n"
   ]
  },
  {
   "cell_type": "code",
   "execution_count": 98,
   "id": "8779b52c",
   "metadata": {
    "execution": {
     "iopub.execute_input": "2022-10-04T14:17:40.563774Z",
     "iopub.status.busy": "2022-10-04T14:17:40.563408Z",
     "iopub.status.idle": "2022-10-04T14:17:40.571505Z",
     "shell.execute_reply": "2022-10-04T14:17:40.570382Z"
    },
    "id": "ZHJFfpxlVGPX",
    "outputId": "1e5ca6b2-8439-49c0-c881-76c3fce7e036",
    "papermill": {
     "duration": 0.025937,
     "end_time": "2022-10-04T14:17:40.573958",
     "exception": false,
     "start_time": "2022-10-04T14:17:40.548021",
     "status": "completed"
    },
    "tags": []
   },
   "outputs": [
    {
     "data": {
      "text/plain": [
       "413"
      ]
     },
     "execution_count": 98,
     "metadata": {},
     "output_type": "execute_result"
    }
   ],
   "source": [
    "len(df4.Location.unique())"
   ]
  },
  {
   "cell_type": "code",
   "execution_count": 99,
   "id": "75e4024e",
   "metadata": {
    "execution": {
     "iopub.execute_input": "2022-10-04T14:17:40.605956Z",
     "iopub.status.busy": "2022-10-04T14:17:40.605604Z",
     "iopub.status.idle": "2022-10-04T14:17:40.617067Z",
     "shell.execute_reply": "2022-10-04T14:17:40.616017Z"
    },
    "id": "NV31d72nVxkM",
    "outputId": "bf22107e-6518-44a1-8382-233839f678e0",
    "papermill": {
     "duration": 0.031438,
     "end_time": "2022-10-04T14:17:40.619935",
     "exception": false,
     "start_time": "2022-10-04T14:17:40.588497",
     "status": "completed"
    },
    "tags": []
   },
   "outputs": [
    {
     "name": "stdout",
     "output_type": "stream",
     "text": [
      "Location\n",
      "Kharghar             533\n",
      "Thane West           418\n",
      "Mira Road East       390\n",
      "Ulwe                 319\n",
      "Borivali West        176\n",
      "                    ... \n",
      "ulhasnagar 4           1\n",
      "15th Road              1\n",
      "vrindavan society      1\n",
      "worli sea Fase         1\n",
      "worli sea face         1\n",
      "Name: Location, Length: 413, dtype: int64\n"
     ]
    }
   ],
   "source": [
    "df4.Location = df4.Location.apply(lambda x: x.strip())\n",
    "location_stats = df4.groupby('Location')['Location'].agg('count').sort_values(ascending=False)\n",
    "print(location_stats)"
   ]
  },
  {
   "cell_type": "code",
   "execution_count": 100,
   "id": "56a522f6",
   "metadata": {
    "execution": {
     "iopub.execute_input": "2022-10-04T14:17:40.651729Z",
     "iopub.status.busy": "2022-10-04T14:17:40.651261Z",
     "iopub.status.idle": "2022-10-04T14:17:40.658725Z",
     "shell.execute_reply": "2022-10-04T14:17:40.657492Z"
    },
    "id": "0xVMwfXtWbST",
    "outputId": "e2aa8129-5bb0-46f4-e174-05414ead5c57",
    "papermill": {
     "duration": 0.025187,
     "end_time": "2022-10-04T14:17:40.660935",
     "exception": false,
     "start_time": "2022-10-04T14:17:40.635748",
     "status": "completed"
    },
    "tags": []
   },
   "outputs": [
    {
     "data": {
      "text/plain": [
       "284"
      ]
     },
     "execution_count": 100,
     "metadata": {},
     "output_type": "execute_result"
    }
   ],
   "source": [
    "len(location_stats[location_stats<=5])"
   ]
  },
  {
   "cell_type": "code",
   "execution_count": 101,
   "id": "721a93bb",
   "metadata": {
    "execution": {
     "iopub.execute_input": "2022-10-04T14:17:40.698358Z",
     "iopub.status.busy": "2022-10-04T14:17:40.697602Z",
     "iopub.status.idle": "2022-10-04T14:17:40.705644Z",
     "shell.execute_reply": "2022-10-04T14:17:40.704332Z"
    },
    "id": "2k8087zKW7Vp",
    "outputId": "627e3176-7406-47b9-c302-c1a108c85997",
    "papermill": {
     "duration": 0.029001,
     "end_time": "2022-10-04T14:17:40.710068",
     "exception": false,
     "start_time": "2022-10-04T14:17:40.681067",
     "status": "completed"
    },
    "tags": []
   },
   "outputs": [
    {
     "name": "stdout",
     "output_type": "stream",
     "text": [
      "Location\n",
      "Tardeo               5\n",
      "kolshet              5\n",
      "Wadala East          5\n",
      "CBD Belapur East     5\n",
      "Mahalaxmi            5\n",
      "                    ..\n",
      "ulhasnagar 4         1\n",
      "15th Road            1\n",
      "vrindavan society    1\n",
      "worli sea Fase       1\n",
      "worli sea face       1\n",
      "Name: Location, Length: 284, dtype: int64\n"
     ]
    }
   ],
   "source": [
    "locations_Under_5 = location_stats[location_stats<=5]\n",
    "print(locations_Under_5)"
   ]
  },
  {
   "cell_type": "code",
   "execution_count": 102,
   "id": "a60976a6",
   "metadata": {
    "execution": {
     "iopub.execute_input": "2022-10-04T14:17:40.752911Z",
     "iopub.status.busy": "2022-10-04T14:17:40.752501Z",
     "iopub.status.idle": "2022-10-04T14:17:40.773393Z",
     "shell.execute_reply": "2022-10-04T14:17:40.772095Z"
    },
    "id": "LRaq19shX32B",
    "outputId": "a4d59b21-e008-452e-be28-9155035dd08b",
    "papermill": {
     "duration": 0.044954,
     "end_time": "2022-10-04T14:17:40.775645",
     "exception": false,
     "start_time": "2022-10-04T14:17:40.730691",
     "status": "completed"
    },
    "tags": []
   },
   "outputs": [
    {
     "data": {
      "text/plain": [
       "130"
      ]
     },
     "execution_count": 102,
     "metadata": {},
     "output_type": "execute_result"
    }
   ],
   "source": [
    "df4.Location = df4.Location.apply(lambda x:'other' if x in locations_Under_5 else x)\n",
    "len(df4.Location.unique())"
   ]
  },
  {
   "cell_type": "code",
   "execution_count": 103,
   "id": "37b25659",
   "metadata": {
    "execution": {
     "iopub.execute_input": "2022-10-04T14:17:40.808414Z",
     "iopub.status.busy": "2022-10-04T14:17:40.807854Z",
     "iopub.status.idle": "2022-10-04T14:17:40.824047Z",
     "shell.execute_reply": "2022-10-04T14:17:40.822954Z"
    },
    "id": "EiHWZptIZG5t",
    "outputId": "4d7599e7-bfd2-4efa-8320-e28b66192836",
    "papermill": {
     "duration": 0.034061,
     "end_time": "2022-10-04T14:17:40.825976",
     "exception": false,
     "start_time": "2022-10-04T14:17:40.791915",
     "status": "completed"
    },
    "tags": []
   },
   "outputs": [
    {
     "data": {
      "text/html": [
       "<div>\n",
       "<style scoped>\n",
       "    .dataframe tbody tr th:only-of-type {\n",
       "        vertical-align: middle;\n",
       "    }\n",
       "\n",
       "    .dataframe tbody tr th {\n",
       "        vertical-align: top;\n",
       "    }\n",
       "\n",
       "    .dataframe thead th {\n",
       "        text-align: right;\n",
       "    }\n",
       "</style>\n",
       "<table border=\"1\" class=\"dataframe\">\n",
       "  <thead>\n",
       "    <tr style=\"text-align: right;\">\n",
       "      <th></th>\n",
       "      <th>Price</th>\n",
       "      <th>Area</th>\n",
       "      <th>Location</th>\n",
       "      <th>bhk</th>\n",
       "      <th>Gymnasium</th>\n",
       "      <th>Lift</th>\n",
       "      <th>Car</th>\n",
       "      <th>Maintenance Staff</th>\n",
       "      <th>Security</th>\n",
       "      <th>Children's Play Area</th>\n",
       "      <th>Clubhouse</th>\n",
       "      <th>Intercom</th>\n",
       "      <th>Price_per_sqft</th>\n",
       "    </tr>\n",
       "  </thead>\n",
       "  <tbody>\n",
       "    <tr>\n",
       "      <th>0</th>\n",
       "      <td>4850000</td>\n",
       "      <td>720</td>\n",
       "      <td>Kharghar</td>\n",
       "      <td>1</td>\n",
       "      <td>0</td>\n",
       "      <td>1</td>\n",
       "      <td>1</td>\n",
       "      <td>1</td>\n",
       "      <td>1</td>\n",
       "      <td>0</td>\n",
       "      <td>0</td>\n",
       "      <td>0</td>\n",
       "      <td>6736.111111</td>\n",
       "    </tr>\n",
       "    <tr>\n",
       "      <th>1</th>\n",
       "      <td>4500000</td>\n",
       "      <td>600</td>\n",
       "      <td>Kharghar</td>\n",
       "      <td>1</td>\n",
       "      <td>1</td>\n",
       "      <td>1</td>\n",
       "      <td>1</td>\n",
       "      <td>1</td>\n",
       "      <td>1</td>\n",
       "      <td>0</td>\n",
       "      <td>1</td>\n",
       "      <td>0</td>\n",
       "      <td>7500.000000</td>\n",
       "    </tr>\n",
       "    <tr>\n",
       "      <th>2</th>\n",
       "      <td>6700000</td>\n",
       "      <td>650</td>\n",
       "      <td>Kharghar</td>\n",
       "      <td>1</td>\n",
       "      <td>1</td>\n",
       "      <td>1</td>\n",
       "      <td>1</td>\n",
       "      <td>1</td>\n",
       "      <td>1</td>\n",
       "      <td>1</td>\n",
       "      <td>1</td>\n",
       "      <td>1</td>\n",
       "      <td>10307.692308</td>\n",
       "    </tr>\n",
       "    <tr>\n",
       "      <th>3</th>\n",
       "      <td>4500000</td>\n",
       "      <td>650</td>\n",
       "      <td>Kharghar</td>\n",
       "      <td>1</td>\n",
       "      <td>0</td>\n",
       "      <td>1</td>\n",
       "      <td>1</td>\n",
       "      <td>1</td>\n",
       "      <td>1</td>\n",
       "      <td>0</td>\n",
       "      <td>0</td>\n",
       "      <td>1</td>\n",
       "      <td>6923.076923</td>\n",
       "    </tr>\n",
       "    <tr>\n",
       "      <th>4</th>\n",
       "      <td>5000000</td>\n",
       "      <td>665</td>\n",
       "      <td>Kharghar</td>\n",
       "      <td>1</td>\n",
       "      <td>0</td>\n",
       "      <td>1</td>\n",
       "      <td>1</td>\n",
       "      <td>1</td>\n",
       "      <td>1</td>\n",
       "      <td>0</td>\n",
       "      <td>0</td>\n",
       "      <td>1</td>\n",
       "      <td>7518.796992</td>\n",
       "    </tr>\n",
       "  </tbody>\n",
       "</table>\n",
       "</div>"
      ],
      "text/plain": [
       "     Price  Area  Location  bhk  Gymnasium  Lift  Car  Maintenance Staff  \\\n",
       "0  4850000   720  Kharghar    1          0     1    1                  1   \n",
       "1  4500000   600  Kharghar    1          1     1    1                  1   \n",
       "2  6700000   650  Kharghar    1          1     1    1                  1   \n",
       "3  4500000   650  Kharghar    1          0     1    1                  1   \n",
       "4  5000000   665  Kharghar    1          0     1    1                  1   \n",
       "\n",
       "   Security  Children's Play Area  Clubhouse  Intercom  Price_per_sqft  \n",
       "0         1                     0          0         0     6736.111111  \n",
       "1         1                     0          1         0     7500.000000  \n",
       "2         1                     1          1         1    10307.692308  \n",
       "3         1                     0          0         1     6923.076923  \n",
       "4         1                     0          0         1     7518.796992  "
      ]
     },
     "execution_count": 103,
     "metadata": {},
     "output_type": "execute_result"
    }
   ],
   "source": [
    "df5 = df4.copy()\n",
    "df5.rename(\n",
    "    columns=({ 'No. of Bedrooms': 'bhk','Lift Available':'Lift','Car Parking':'Car','24x7 Security':'Security'}), \n",
    "    inplace=True,\n",
    ")\n",
    "df5.head()"
   ]
  },
  {
   "cell_type": "code",
   "execution_count": 104,
   "id": "3207175d",
   "metadata": {
    "execution": {
     "iopub.execute_input": "2022-10-04T14:17:40.858447Z",
     "iopub.status.busy": "2022-10-04T14:17:40.857817Z",
     "iopub.status.idle": "2022-10-04T14:17:40.873171Z",
     "shell.execute_reply": "2022-10-04T14:17:40.872414Z"
    },
    "id": "ZxbTwhFJekrt",
    "outputId": "e40d7951-31b0-4f7a-81c4-a2629771f26b",
    "papermill": {
     "duration": 0.034073,
     "end_time": "2022-10-04T14:17:40.875083",
     "exception": false,
     "start_time": "2022-10-04T14:17:40.841010",
     "status": "completed"
    },
    "tags": []
   },
   "outputs": [
    {
     "data": {
      "text/html": [
       "<div>\n",
       "<style scoped>\n",
       "    .dataframe tbody tr th:only-of-type {\n",
       "        vertical-align: middle;\n",
       "    }\n",
       "\n",
       "    .dataframe tbody tr th {\n",
       "        vertical-align: top;\n",
       "    }\n",
       "\n",
       "    .dataframe thead th {\n",
       "        text-align: right;\n",
       "    }\n",
       "</style>\n",
       "<table border=\"1\" class=\"dataframe\">\n",
       "  <thead>\n",
       "    <tr style=\"text-align: right;\">\n",
       "      <th></th>\n",
       "      <th>Price</th>\n",
       "      <th>Area</th>\n",
       "      <th>Location</th>\n",
       "      <th>bhk</th>\n",
       "      <th>Gymnasium</th>\n",
       "      <th>Lift</th>\n",
       "      <th>Car</th>\n",
       "      <th>Maintenance Staff</th>\n",
       "      <th>Security</th>\n",
       "      <th>Children's Play Area</th>\n",
       "      <th>Clubhouse</th>\n",
       "      <th>Intercom</th>\n",
       "      <th>Price_per_sqft</th>\n",
       "    </tr>\n",
       "  </thead>\n",
       "  <tbody>\n",
       "    <tr>\n",
       "      <th>4573</th>\n",
       "      <td>9370000</td>\n",
       "      <td>583</td>\n",
       "      <td>Mira Road East</td>\n",
       "      <td>3</td>\n",
       "      <td>1</td>\n",
       "      <td>1</td>\n",
       "      <td>1</td>\n",
       "      <td>0</td>\n",
       "      <td>1</td>\n",
       "      <td>1</td>\n",
       "      <td>1</td>\n",
       "      <td>1</td>\n",
       "      <td>16072.041166</td>\n",
       "    </tr>\n",
       "    <tr>\n",
       "      <th>6138</th>\n",
       "      <td>9500000</td>\n",
       "      <td>583</td>\n",
       "      <td>Mira Road East</td>\n",
       "      <td>3</td>\n",
       "      <td>1</td>\n",
       "      <td>1</td>\n",
       "      <td>1</td>\n",
       "      <td>0</td>\n",
       "      <td>1</td>\n",
       "      <td>1</td>\n",
       "      <td>1</td>\n",
       "      <td>1</td>\n",
       "      <td>16295.025729</td>\n",
       "    </tr>\n",
       "  </tbody>\n",
       "</table>\n",
       "</div>"
      ],
      "text/plain": [
       "        Price  Area        Location  bhk  Gymnasium  Lift  Car  \\\n",
       "4573  9370000   583  Mira Road East    3          1     1    1   \n",
       "6138  9500000   583  Mira Road East    3          1     1    1   \n",
       "\n",
       "      Maintenance Staff  Security  Children's Play Area  Clubhouse  Intercom  \\\n",
       "4573                  0         1                     1          1         1   \n",
       "6138                  0         1                     1          1         1   \n",
       "\n",
       "      Price_per_sqft  \n",
       "4573    16072.041166  \n",
       "6138    16295.025729  "
      ]
     },
     "execution_count": 104,
     "metadata": {},
     "output_type": "execute_result"
    }
   ],
   "source": [
    "df5[df5.Area/df5.bhk<200].head()"
   ]
  },
  {
   "cell_type": "code",
   "execution_count": 105,
   "id": "8c7483d9",
   "metadata": {
    "execution": {
     "iopub.execute_input": "2022-10-04T14:17:40.907336Z",
     "iopub.status.busy": "2022-10-04T14:17:40.906940Z",
     "iopub.status.idle": "2022-10-04T14:17:40.913238Z",
     "shell.execute_reply": "2022-10-04T14:17:40.912249Z"
    },
    "id": "UyyUH_OFe7mW",
    "outputId": "bf3865c8-2a1b-4781-c9ad-46ef5cf1c374",
    "papermill": {
     "duration": 0.025323,
     "end_time": "2022-10-04T14:17:40.915570",
     "exception": false,
     "start_time": "2022-10-04T14:17:40.890247",
     "status": "completed"
    },
    "tags": []
   },
   "outputs": [
    {
     "data": {
      "text/plain": [
       "(6347, 13)"
      ]
     },
     "execution_count": 105,
     "metadata": {},
     "output_type": "execute_result"
    }
   ],
   "source": [
    "df5.shape"
   ]
  },
  {
   "cell_type": "code",
   "execution_count": 106,
   "id": "ab77ab7b",
   "metadata": {
    "execution": {
     "iopub.execute_input": "2022-10-04T14:17:40.947737Z",
     "iopub.status.busy": "2022-10-04T14:17:40.947329Z",
     "iopub.status.idle": "2022-10-04T14:17:40.957002Z",
     "shell.execute_reply": "2022-10-04T14:17:40.956001Z"
    },
    "id": "03s4RVgqe_f1",
    "outputId": "6df76937-564b-410c-9d2a-ba0e7635562b",
    "papermill": {
     "duration": 0.028243,
     "end_time": "2022-10-04T14:17:40.959077",
     "exception": false,
     "start_time": "2022-10-04T14:17:40.930834",
     "status": "completed"
    },
    "tags": []
   },
   "outputs": [
    {
     "data": {
      "text/plain": [
       "(6345, 13)"
      ]
     },
     "execution_count": 106,
     "metadata": {},
     "output_type": "execute_result"
    }
   ],
   "source": [
    "df6 = df5[~(df5.Area/df5.bhk<200)]\n",
    "df6.shape"
   ]
  },
  {
   "cell_type": "code",
   "execution_count": 107,
   "id": "4b78cdb2",
   "metadata": {
    "execution": {
     "iopub.execute_input": "2022-10-04T14:17:40.991509Z",
     "iopub.status.busy": "2022-10-04T14:17:40.991071Z",
     "iopub.status.idle": "2022-10-04T14:17:41.003857Z",
     "shell.execute_reply": "2022-10-04T14:17:41.003132Z"
    },
    "id": "4eCvIg6VfVnn",
    "outputId": "cefe4854-22a6-43e7-aa35-1226f5d97425",
    "papermill": {
     "duration": 0.031455,
     "end_time": "2022-10-04T14:17:41.005972",
     "exception": false,
     "start_time": "2022-10-04T14:17:40.974517",
     "status": "completed"
    },
    "tags": []
   },
   "outputs": [
    {
     "data": {
      "text/plain": [
       "count      6345.000000\n",
       "mean      13554.637449\n",
       "std        9575.316556\n",
       "min        1597.444089\n",
       "25%        7234.042553\n",
       "50%       10483.870968\n",
       "75%       17142.857143\n",
       "max      109950.522265\n",
       "Name: Price_per_sqft, dtype: float64"
      ]
     },
     "execution_count": 107,
     "metadata": {},
     "output_type": "execute_result"
    }
   ],
   "source": [
    "df6.Price_per_sqft.describe()"
   ]
  },
  {
   "cell_type": "code",
   "execution_count": 108,
   "id": "056224fc",
   "metadata": {
    "execution": {
     "iopub.execute_input": "2022-10-04T14:17:41.039404Z",
     "iopub.status.busy": "2022-10-04T14:17:41.039036Z",
     "iopub.status.idle": "2022-10-04T14:17:41.306697Z",
     "shell.execute_reply": "2022-10-04T14:17:41.305591Z"
    },
    "id": "pjwqMYZXfrDP",
    "outputId": "13541daf-cac3-4501-b182-04ea66ed7833",
    "papermill": {
     "duration": 0.28706,
     "end_time": "2022-10-04T14:17:41.308994",
     "exception": false,
     "start_time": "2022-10-04T14:17:41.021934",
     "status": "completed"
    },
    "tags": []
   },
   "outputs": [
    {
     "data": {
      "text/plain": [
       "(4869, 13)"
      ]
     },
     "execution_count": 108,
     "metadata": {},
     "output_type": "execute_result"
    }
   ],
   "source": [
    "def removeOutliners(df):\n",
    "  df_Out = pd.DataFrame()\n",
    "  for key,subdf in df.groupby('Location'):\n",
    "    m = np.mean(subdf.Price_per_sqft)\n",
    "    st = np.std(subdf.Price_per_sqft)\n",
    "    reduced = subdf[(subdf.Price_per_sqft>(m-st)) & (subdf.Price_per_sqft<=(m+st))]\n",
    "    df_Out = pd.concat([df_Out,reduced],ignore_index=True)\n",
    "  return df_Out\n",
    "df7 = removeOutliners(df6)\n",
    "df7.shape"
   ]
  },
  {
   "cell_type": "code",
   "execution_count": 109,
   "id": "7015813d",
   "metadata": {
    "execution": {
     "iopub.execute_input": "2022-10-04T14:17:41.343172Z",
     "iopub.status.busy": "2022-10-04T14:17:41.342383Z",
     "iopub.status.idle": "2022-10-04T14:17:41.366494Z",
     "shell.execute_reply": "2022-10-04T14:17:41.365544Z"
    },
    "id": "ZXF4a6xmbJhz",
    "outputId": "feec0f9b-47f0-4b00-b9fb-ebebab5c33f6",
    "papermill": {
     "duration": 0.043571,
     "end_time": "2022-10-04T14:17:41.368606",
     "exception": false,
     "start_time": "2022-10-04T14:17:41.325035",
     "status": "completed"
    },
    "tags": []
   },
   "outputs": [
    {
     "data": {
      "text/html": [
       "<div>\n",
       "<style scoped>\n",
       "    .dataframe tbody tr th:only-of-type {\n",
       "        vertical-align: middle;\n",
       "    }\n",
       "\n",
       "    .dataframe tbody tr th {\n",
       "        vertical-align: top;\n",
       "    }\n",
       "\n",
       "    .dataframe thead th {\n",
       "        text-align: right;\n",
       "    }\n",
       "</style>\n",
       "<table border=\"1\" class=\"dataframe\">\n",
       "  <thead>\n",
       "    <tr style=\"text-align: right;\">\n",
       "      <th></th>\n",
       "      <th>Airoli</th>\n",
       "      <th>Ambernath East</th>\n",
       "      <th>Ambernath West</th>\n",
       "      <th>Andheri</th>\n",
       "      <th>Andheri East</th>\n",
       "      <th>Andheri West</th>\n",
       "      <th>Badlapur</th>\n",
       "      <th>Badlapur East</th>\n",
       "      <th>Badlapur West</th>\n",
       "      <th>Bandra East</th>\n",
       "      <th>...</th>\n",
       "      <th>Wadala</th>\n",
       "      <th>Wadala East Wadala</th>\n",
       "      <th>Worli</th>\n",
       "      <th>kandivali</th>\n",
       "      <th>kavesar</th>\n",
       "      <th>matunga east</th>\n",
       "      <th>mumbai</th>\n",
       "      <th>other</th>\n",
       "      <th>taloja panchanand</th>\n",
       "      <th>vile parle west</th>\n",
       "    </tr>\n",
       "  </thead>\n",
       "  <tbody>\n",
       "    <tr>\n",
       "      <th>0</th>\n",
       "      <td>True</td>\n",
       "      <td>False</td>\n",
       "      <td>False</td>\n",
       "      <td>False</td>\n",
       "      <td>False</td>\n",
       "      <td>False</td>\n",
       "      <td>False</td>\n",
       "      <td>False</td>\n",
       "      <td>False</td>\n",
       "      <td>False</td>\n",
       "      <td>...</td>\n",
       "      <td>False</td>\n",
       "      <td>False</td>\n",
       "      <td>False</td>\n",
       "      <td>False</td>\n",
       "      <td>False</td>\n",
       "      <td>False</td>\n",
       "      <td>False</td>\n",
       "      <td>False</td>\n",
       "      <td>False</td>\n",
       "      <td>False</td>\n",
       "    </tr>\n",
       "    <tr>\n",
       "      <th>1</th>\n",
       "      <td>True</td>\n",
       "      <td>False</td>\n",
       "      <td>False</td>\n",
       "      <td>False</td>\n",
       "      <td>False</td>\n",
       "      <td>False</td>\n",
       "      <td>False</td>\n",
       "      <td>False</td>\n",
       "      <td>False</td>\n",
       "      <td>False</td>\n",
       "      <td>...</td>\n",
       "      <td>False</td>\n",
       "      <td>False</td>\n",
       "      <td>False</td>\n",
       "      <td>False</td>\n",
       "      <td>False</td>\n",
       "      <td>False</td>\n",
       "      <td>False</td>\n",
       "      <td>False</td>\n",
       "      <td>False</td>\n",
       "      <td>False</td>\n",
       "    </tr>\n",
       "    <tr>\n",
       "      <th>2</th>\n",
       "      <td>True</td>\n",
       "      <td>False</td>\n",
       "      <td>False</td>\n",
       "      <td>False</td>\n",
       "      <td>False</td>\n",
       "      <td>False</td>\n",
       "      <td>False</td>\n",
       "      <td>False</td>\n",
       "      <td>False</td>\n",
       "      <td>False</td>\n",
       "      <td>...</td>\n",
       "      <td>False</td>\n",
       "      <td>False</td>\n",
       "      <td>False</td>\n",
       "      <td>False</td>\n",
       "      <td>False</td>\n",
       "      <td>False</td>\n",
       "      <td>False</td>\n",
       "      <td>False</td>\n",
       "      <td>False</td>\n",
       "      <td>False</td>\n",
       "    </tr>\n",
       "    <tr>\n",
       "      <th>3</th>\n",
       "      <td>True</td>\n",
       "      <td>False</td>\n",
       "      <td>False</td>\n",
       "      <td>False</td>\n",
       "      <td>False</td>\n",
       "      <td>False</td>\n",
       "      <td>False</td>\n",
       "      <td>False</td>\n",
       "      <td>False</td>\n",
       "      <td>False</td>\n",
       "      <td>...</td>\n",
       "      <td>False</td>\n",
       "      <td>False</td>\n",
       "      <td>False</td>\n",
       "      <td>False</td>\n",
       "      <td>False</td>\n",
       "      <td>False</td>\n",
       "      <td>False</td>\n",
       "      <td>False</td>\n",
       "      <td>False</td>\n",
       "      <td>False</td>\n",
       "    </tr>\n",
       "  </tbody>\n",
       "</table>\n",
       "<p>4 rows × 130 columns</p>\n",
       "</div>"
      ],
      "text/plain": [
       "   Airoli  Ambernath East  Ambernath West  Andheri  Andheri East  \\\n",
       "0    True           False           False    False         False   \n",
       "1    True           False           False    False         False   \n",
       "2    True           False           False    False         False   \n",
       "3    True           False           False    False         False   \n",
       "\n",
       "   Andheri West  Badlapur  Badlapur East  Badlapur West  Bandra East  ...  \\\n",
       "0         False     False          False          False        False  ...   \n",
       "1         False     False          False          False        False  ...   \n",
       "2         False     False          False          False        False  ...   \n",
       "3         False     False          False          False        False  ...   \n",
       "\n",
       "   Wadala  Wadala East Wadala  Worli  kandivali  kavesar  matunga east  \\\n",
       "0   False               False  False      False    False         False   \n",
       "1   False               False  False      False    False         False   \n",
       "2   False               False  False      False    False         False   \n",
       "3   False               False  False      False    False         False   \n",
       "\n",
       "   mumbai  other  taloja panchanand  vile parle west  \n",
       "0   False  False              False            False  \n",
       "1   False  False              False            False  \n",
       "2   False  False              False            False  \n",
       "3   False  False              False            False  \n",
       "\n",
       "[4 rows x 130 columns]"
      ]
     },
     "execution_count": 109,
     "metadata": {},
     "output_type": "execute_result"
    }
   ],
   "source": [
    "dummies = pd.get_dummies(df7.Location)\n",
    "dummies.head(4)"
   ]
  },
  {
   "cell_type": "code",
   "execution_count": 110,
   "id": "f6ca0e03",
   "metadata": {
    "execution": {
     "iopub.execute_input": "2022-10-04T14:17:41.402207Z",
     "iopub.status.busy": "2022-10-04T14:17:41.401831Z",
     "iopub.status.idle": "2022-10-04T14:17:41.420455Z",
     "shell.execute_reply": "2022-10-04T14:17:41.419631Z"
    },
    "id": "pnd-dUXychpy",
    "outputId": "257efc5c-7123-49ae-ccd9-4cb74fabd05b",
    "papermill": {
     "duration": 0.038074,
     "end_time": "2022-10-04T14:17:41.422486",
     "exception": false,
     "start_time": "2022-10-04T14:17:41.384412",
     "status": "completed"
    },
    "tags": []
   },
   "outputs": [
    {
     "data": {
      "text/html": [
       "<div>\n",
       "<style scoped>\n",
       "    .dataframe tbody tr th:only-of-type {\n",
       "        vertical-align: middle;\n",
       "    }\n",
       "\n",
       "    .dataframe tbody tr th {\n",
       "        vertical-align: top;\n",
       "    }\n",
       "\n",
       "    .dataframe thead th {\n",
       "        text-align: right;\n",
       "    }\n",
       "</style>\n",
       "<table border=\"1\" class=\"dataframe\">\n",
       "  <thead>\n",
       "    <tr style=\"text-align: right;\">\n",
       "      <th></th>\n",
       "      <th>Price</th>\n",
       "      <th>Area</th>\n",
       "      <th>Location</th>\n",
       "      <th>bhk</th>\n",
       "      <th>Gymnasium</th>\n",
       "      <th>Lift</th>\n",
       "      <th>Car</th>\n",
       "      <th>Maintenance Staff</th>\n",
       "      <th>Security</th>\n",
       "      <th>Children's Play Area</th>\n",
       "      <th>...</th>\n",
       "      <th>Virar West</th>\n",
       "      <th>Wadala</th>\n",
       "      <th>Wadala East Wadala</th>\n",
       "      <th>Worli</th>\n",
       "      <th>kandivali</th>\n",
       "      <th>kavesar</th>\n",
       "      <th>matunga east</th>\n",
       "      <th>mumbai</th>\n",
       "      <th>taloja panchanand</th>\n",
       "      <th>vile parle west</th>\n",
       "    </tr>\n",
       "  </thead>\n",
       "  <tbody>\n",
       "    <tr>\n",
       "      <th>0</th>\n",
       "      <td>6200000</td>\n",
       "      <td>400</td>\n",
       "      <td>Airoli</td>\n",
       "      <td>1</td>\n",
       "      <td>0</td>\n",
       "      <td>1</td>\n",
       "      <td>1</td>\n",
       "      <td>1</td>\n",
       "      <td>1</td>\n",
       "      <td>0</td>\n",
       "      <td>...</td>\n",
       "      <td>False</td>\n",
       "      <td>False</td>\n",
       "      <td>False</td>\n",
       "      <td>False</td>\n",
       "      <td>False</td>\n",
       "      <td>False</td>\n",
       "      <td>False</td>\n",
       "      <td>False</td>\n",
       "      <td>False</td>\n",
       "      <td>False</td>\n",
       "    </tr>\n",
       "    <tr>\n",
       "      <th>1</th>\n",
       "      <td>9500000</td>\n",
       "      <td>1000</td>\n",
       "      <td>Airoli</td>\n",
       "      <td>2</td>\n",
       "      <td>0</td>\n",
       "      <td>1</td>\n",
       "      <td>1</td>\n",
       "      <td>1</td>\n",
       "      <td>1</td>\n",
       "      <td>0</td>\n",
       "      <td>...</td>\n",
       "      <td>False</td>\n",
       "      <td>False</td>\n",
       "      <td>False</td>\n",
       "      <td>False</td>\n",
       "      <td>False</td>\n",
       "      <td>False</td>\n",
       "      <td>False</td>\n",
       "      <td>False</td>\n",
       "      <td>False</td>\n",
       "      <td>False</td>\n",
       "    </tr>\n",
       "    <tr>\n",
       "      <th>2</th>\n",
       "      <td>14900000</td>\n",
       "      <td>1245</td>\n",
       "      <td>Airoli</td>\n",
       "      <td>2</td>\n",
       "      <td>0</td>\n",
       "      <td>1</td>\n",
       "      <td>1</td>\n",
       "      <td>0</td>\n",
       "      <td>0</td>\n",
       "      <td>0</td>\n",
       "      <td>...</td>\n",
       "      <td>False</td>\n",
       "      <td>False</td>\n",
       "      <td>False</td>\n",
       "      <td>False</td>\n",
       "      <td>False</td>\n",
       "      <td>False</td>\n",
       "      <td>False</td>\n",
       "      <td>False</td>\n",
       "      <td>False</td>\n",
       "      <td>False</td>\n",
       "    </tr>\n",
       "  </tbody>\n",
       "</table>\n",
       "<p>3 rows × 142 columns</p>\n",
       "</div>"
      ],
      "text/plain": [
       "      Price  Area Location  bhk  Gymnasium  Lift  Car  Maintenance Staff  \\\n",
       "0   6200000   400   Airoli    1          0     1    1                  1   \n",
       "1   9500000  1000   Airoli    2          0     1    1                  1   \n",
       "2  14900000  1245   Airoli    2          0     1    1                  0   \n",
       "\n",
       "   Security  Children's Play Area  ...  Virar West  Wadala  \\\n",
       "0         1                     0  ...       False   False   \n",
       "1         1                     0  ...       False   False   \n",
       "2         0                     0  ...       False   False   \n",
       "\n",
       "   Wadala East Wadala  Worli  kandivali  kavesar  matunga east  mumbai  \\\n",
       "0               False  False      False    False         False   False   \n",
       "1               False  False      False    False         False   False   \n",
       "2               False  False      False    False         False   False   \n",
       "\n",
       "   taloja panchanand  vile parle west  \n",
       "0              False            False  \n",
       "1              False            False  \n",
       "2              False            False  \n",
       "\n",
       "[3 rows x 142 columns]"
      ]
     },
     "execution_count": 110,
     "metadata": {},
     "output_type": "execute_result"
    }
   ],
   "source": [
    "df8 = pd.concat([df7,dummies.drop('other',axis='columns')],axis='columns')\n",
    "df8.head(3)"
   ]
  },
  {
   "cell_type": "code",
   "execution_count": 111,
   "id": "bdc1e5df",
   "metadata": {
    "execution": {
     "iopub.execute_input": "2022-10-04T14:17:41.456343Z",
     "iopub.status.busy": "2022-10-04T14:17:41.455963Z",
     "iopub.status.idle": "2022-10-04T14:17:41.475296Z",
     "shell.execute_reply": "2022-10-04T14:17:41.474290Z"
    },
    "id": "A3bxQ3H1dCnx",
    "outputId": "d7eb2da0-b9f7-4e36-810c-d3054b80bf66",
    "papermill": {
     "duration": 0.038954,
     "end_time": "2022-10-04T14:17:41.477661",
     "exception": false,
     "start_time": "2022-10-04T14:17:41.438707",
     "status": "completed"
    },
    "tags": []
   },
   "outputs": [
    {
     "data": {
      "text/html": [
       "<div>\n",
       "<style scoped>\n",
       "    .dataframe tbody tr th:only-of-type {\n",
       "        vertical-align: middle;\n",
       "    }\n",
       "\n",
       "    .dataframe tbody tr th {\n",
       "        vertical-align: top;\n",
       "    }\n",
       "\n",
       "    .dataframe thead th {\n",
       "        text-align: right;\n",
       "    }\n",
       "</style>\n",
       "<table border=\"1\" class=\"dataframe\">\n",
       "  <thead>\n",
       "    <tr style=\"text-align: right;\">\n",
       "      <th></th>\n",
       "      <th>Price</th>\n",
       "      <th>Area</th>\n",
       "      <th>bhk</th>\n",
       "      <th>Gymnasium</th>\n",
       "      <th>Lift</th>\n",
       "      <th>Car</th>\n",
       "      <th>Maintenance Staff</th>\n",
       "      <th>Security</th>\n",
       "      <th>Children's Play Area</th>\n",
       "      <th>Clubhouse</th>\n",
       "      <th>...</th>\n",
       "      <th>Virar West</th>\n",
       "      <th>Wadala</th>\n",
       "      <th>Wadala East Wadala</th>\n",
       "      <th>Worli</th>\n",
       "      <th>kandivali</th>\n",
       "      <th>kavesar</th>\n",
       "      <th>matunga east</th>\n",
       "      <th>mumbai</th>\n",
       "      <th>taloja panchanand</th>\n",
       "      <th>vile parle west</th>\n",
       "    </tr>\n",
       "  </thead>\n",
       "  <tbody>\n",
       "    <tr>\n",
       "      <th>0</th>\n",
       "      <td>6200000</td>\n",
       "      <td>400</td>\n",
       "      <td>1</td>\n",
       "      <td>0</td>\n",
       "      <td>1</td>\n",
       "      <td>1</td>\n",
       "      <td>1</td>\n",
       "      <td>1</td>\n",
       "      <td>0</td>\n",
       "      <td>0</td>\n",
       "      <td>...</td>\n",
       "      <td>False</td>\n",
       "      <td>False</td>\n",
       "      <td>False</td>\n",
       "      <td>False</td>\n",
       "      <td>False</td>\n",
       "      <td>False</td>\n",
       "      <td>False</td>\n",
       "      <td>False</td>\n",
       "      <td>False</td>\n",
       "      <td>False</td>\n",
       "    </tr>\n",
       "    <tr>\n",
       "      <th>1</th>\n",
       "      <td>9500000</td>\n",
       "      <td>1000</td>\n",
       "      <td>2</td>\n",
       "      <td>0</td>\n",
       "      <td>1</td>\n",
       "      <td>1</td>\n",
       "      <td>1</td>\n",
       "      <td>1</td>\n",
       "      <td>0</td>\n",
       "      <td>1</td>\n",
       "      <td>...</td>\n",
       "      <td>False</td>\n",
       "      <td>False</td>\n",
       "      <td>False</td>\n",
       "      <td>False</td>\n",
       "      <td>False</td>\n",
       "      <td>False</td>\n",
       "      <td>False</td>\n",
       "      <td>False</td>\n",
       "      <td>False</td>\n",
       "      <td>False</td>\n",
       "    </tr>\n",
       "  </tbody>\n",
       "</table>\n",
       "<p>2 rows × 141 columns</p>\n",
       "</div>"
      ],
      "text/plain": [
       "     Price  Area  bhk  Gymnasium  Lift  Car  Maintenance Staff  Security  \\\n",
       "0  6200000   400    1          0     1    1                  1         1   \n",
       "1  9500000  1000    2          0     1    1                  1         1   \n",
       "\n",
       "   Children's Play Area  Clubhouse  ...  Virar West  Wadala  \\\n",
       "0                     0          0  ...       False   False   \n",
       "1                     0          1  ...       False   False   \n",
       "\n",
       "   Wadala East Wadala  Worli  kandivali  kavesar  matunga east  mumbai  \\\n",
       "0               False  False      False    False         False   False   \n",
       "1               False  False      False    False         False   False   \n",
       "\n",
       "   taloja panchanand  vile parle west  \n",
       "0              False            False  \n",
       "1              False            False  \n",
       "\n",
       "[2 rows x 141 columns]"
      ]
     },
     "execution_count": 111,
     "metadata": {},
     "output_type": "execute_result"
    }
   ],
   "source": [
    "df9 = df8.drop('Location',axis='columns')\n",
    "df9.head(2)"
   ]
  },
  {
   "cell_type": "code",
   "execution_count": 112,
   "id": "8543b09a",
   "metadata": {
    "execution": {
     "iopub.execute_input": "2022-10-04T14:17:41.512265Z",
     "iopub.status.busy": "2022-10-04T14:17:41.511864Z",
     "iopub.status.idle": "2022-10-04T14:17:41.518051Z",
     "shell.execute_reply": "2022-10-04T14:17:41.517057Z"
    },
    "id": "AhZXwUgQdePc",
    "outputId": "ecae642e-32f4-4a46-a8af-0e108063388b",
    "papermill": {
     "duration": 0.026247,
     "end_time": "2022-10-04T14:17:41.520327",
     "exception": false,
     "start_time": "2022-10-04T14:17:41.494080",
     "status": "completed"
    },
    "tags": []
   },
   "outputs": [
    {
     "data": {
      "text/plain": [
       "(4869, 141)"
      ]
     },
     "execution_count": 112,
     "metadata": {},
     "output_type": "execute_result"
    }
   ],
   "source": [
    "df9.shape"
   ]
  },
  {
   "cell_type": "code",
   "execution_count": 113,
   "id": "fdcaf921",
   "metadata": {
    "execution": {
     "iopub.execute_input": "2022-10-04T14:17:41.554910Z",
     "iopub.status.busy": "2022-10-04T14:17:41.554576Z",
     "iopub.status.idle": "2022-10-04T14:17:41.573694Z",
     "shell.execute_reply": "2022-10-04T14:17:41.572610Z"
    },
    "id": "O5wbn_m9dhqx",
    "outputId": "99198a81-a6ed-4305-cd4d-df1f1954a3da",
    "papermill": {
     "duration": 0.039207,
     "end_time": "2022-10-04T14:17:41.576031",
     "exception": false,
     "start_time": "2022-10-04T14:17:41.536824",
     "status": "completed"
    },
    "tags": []
   },
   "outputs": [
    {
     "data": {
      "text/html": [
       "<div>\n",
       "<style scoped>\n",
       "    .dataframe tbody tr th:only-of-type {\n",
       "        vertical-align: middle;\n",
       "    }\n",
       "\n",
       "    .dataframe tbody tr th {\n",
       "        vertical-align: top;\n",
       "    }\n",
       "\n",
       "    .dataframe thead th {\n",
       "        text-align: right;\n",
       "    }\n",
       "</style>\n",
       "<table border=\"1\" class=\"dataframe\">\n",
       "  <thead>\n",
       "    <tr style=\"text-align: right;\">\n",
       "      <th></th>\n",
       "      <th>Area</th>\n",
       "      <th>bhk</th>\n",
       "      <th>Gymnasium</th>\n",
       "      <th>Lift</th>\n",
       "      <th>Car</th>\n",
       "      <th>Maintenance Staff</th>\n",
       "      <th>Security</th>\n",
       "      <th>Children's Play Area</th>\n",
       "      <th>Clubhouse</th>\n",
       "      <th>Intercom</th>\n",
       "      <th>...</th>\n",
       "      <th>Virar West</th>\n",
       "      <th>Wadala</th>\n",
       "      <th>Wadala East Wadala</th>\n",
       "      <th>Worli</th>\n",
       "      <th>kandivali</th>\n",
       "      <th>kavesar</th>\n",
       "      <th>matunga east</th>\n",
       "      <th>mumbai</th>\n",
       "      <th>taloja panchanand</th>\n",
       "      <th>vile parle west</th>\n",
       "    </tr>\n",
       "  </thead>\n",
       "  <tbody>\n",
       "    <tr>\n",
       "      <th>0</th>\n",
       "      <td>400</td>\n",
       "      <td>1</td>\n",
       "      <td>0</td>\n",
       "      <td>1</td>\n",
       "      <td>1</td>\n",
       "      <td>1</td>\n",
       "      <td>1</td>\n",
       "      <td>0</td>\n",
       "      <td>0</td>\n",
       "      <td>0</td>\n",
       "      <td>...</td>\n",
       "      <td>False</td>\n",
       "      <td>False</td>\n",
       "      <td>False</td>\n",
       "      <td>False</td>\n",
       "      <td>False</td>\n",
       "      <td>False</td>\n",
       "      <td>False</td>\n",
       "      <td>False</td>\n",
       "      <td>False</td>\n",
       "      <td>False</td>\n",
       "    </tr>\n",
       "    <tr>\n",
       "      <th>1</th>\n",
       "      <td>1000</td>\n",
       "      <td>2</td>\n",
       "      <td>0</td>\n",
       "      <td>1</td>\n",
       "      <td>1</td>\n",
       "      <td>1</td>\n",
       "      <td>1</td>\n",
       "      <td>0</td>\n",
       "      <td>1</td>\n",
       "      <td>0</td>\n",
       "      <td>...</td>\n",
       "      <td>False</td>\n",
       "      <td>False</td>\n",
       "      <td>False</td>\n",
       "      <td>False</td>\n",
       "      <td>False</td>\n",
       "      <td>False</td>\n",
       "      <td>False</td>\n",
       "      <td>False</td>\n",
       "      <td>False</td>\n",
       "      <td>False</td>\n",
       "    </tr>\n",
       "    <tr>\n",
       "      <th>2</th>\n",
       "      <td>1245</td>\n",
       "      <td>2</td>\n",
       "      <td>0</td>\n",
       "      <td>1</td>\n",
       "      <td>1</td>\n",
       "      <td>0</td>\n",
       "      <td>0</td>\n",
       "      <td>0</td>\n",
       "      <td>0</td>\n",
       "      <td>0</td>\n",
       "      <td>...</td>\n",
       "      <td>False</td>\n",
       "      <td>False</td>\n",
       "      <td>False</td>\n",
       "      <td>False</td>\n",
       "      <td>False</td>\n",
       "      <td>False</td>\n",
       "      <td>False</td>\n",
       "      <td>False</td>\n",
       "      <td>False</td>\n",
       "      <td>False</td>\n",
       "    </tr>\n",
       "    <tr>\n",
       "      <th>3</th>\n",
       "      <td>1183</td>\n",
       "      <td>2</td>\n",
       "      <td>1</td>\n",
       "      <td>1</td>\n",
       "      <td>1</td>\n",
       "      <td>0</td>\n",
       "      <td>1</td>\n",
       "      <td>1</td>\n",
       "      <td>1</td>\n",
       "      <td>1</td>\n",
       "      <td>...</td>\n",
       "      <td>False</td>\n",
       "      <td>False</td>\n",
       "      <td>False</td>\n",
       "      <td>False</td>\n",
       "      <td>False</td>\n",
       "      <td>False</td>\n",
       "      <td>False</td>\n",
       "      <td>False</td>\n",
       "      <td>False</td>\n",
       "      <td>False</td>\n",
       "    </tr>\n",
       "    <tr>\n",
       "      <th>4</th>\n",
       "      <td>1245</td>\n",
       "      <td>2</td>\n",
       "      <td>0</td>\n",
       "      <td>1</td>\n",
       "      <td>1</td>\n",
       "      <td>1</td>\n",
       "      <td>1</td>\n",
       "      <td>0</td>\n",
       "      <td>0</td>\n",
       "      <td>0</td>\n",
       "      <td>...</td>\n",
       "      <td>False</td>\n",
       "      <td>False</td>\n",
       "      <td>False</td>\n",
       "      <td>False</td>\n",
       "      <td>False</td>\n",
       "      <td>False</td>\n",
       "      <td>False</td>\n",
       "      <td>False</td>\n",
       "      <td>False</td>\n",
       "      <td>False</td>\n",
       "    </tr>\n",
       "  </tbody>\n",
       "</table>\n",
       "<p>5 rows × 140 columns</p>\n",
       "</div>"
      ],
      "text/plain": [
       "   Area  bhk  Gymnasium  Lift  Car  Maintenance Staff  Security  \\\n",
       "0   400    1          0     1    1                  1         1   \n",
       "1  1000    2          0     1    1                  1         1   \n",
       "2  1245    2          0     1    1                  0         0   \n",
       "3  1183    2          1     1    1                  0         1   \n",
       "4  1245    2          0     1    1                  1         1   \n",
       "\n",
       "   Children's Play Area  Clubhouse  Intercom  ...  Virar West  Wadala  \\\n",
       "0                     0          0         0  ...       False   False   \n",
       "1                     0          1         0  ...       False   False   \n",
       "2                     0          0         0  ...       False   False   \n",
       "3                     1          1         1  ...       False   False   \n",
       "4                     0          0         0  ...       False   False   \n",
       "\n",
       "   Wadala East Wadala  Worli  kandivali  kavesar  matunga east  mumbai  \\\n",
       "0               False  False      False    False         False   False   \n",
       "1               False  False      False    False         False   False   \n",
       "2               False  False      False    False         False   False   \n",
       "3               False  False      False    False         False   False   \n",
       "4               False  False      False    False         False   False   \n",
       "\n",
       "   taloja panchanand  vile parle west  \n",
       "0              False            False  \n",
       "1              False            False  \n",
       "2              False            False  \n",
       "3              False            False  \n",
       "4              False            False  \n",
       "\n",
       "[5 rows x 140 columns]"
      ]
     },
     "execution_count": 113,
     "metadata": {},
     "output_type": "execute_result"
    }
   ],
   "source": [
    "X = df9.drop('Price',axis='columns')\n",
    "X.head()"
   ]
  },
  {
   "cell_type": "code",
   "execution_count": 114,
   "id": "68ae8cc5",
   "metadata": {
    "execution": {
     "iopub.execute_input": "2022-10-04T14:17:41.611827Z",
     "iopub.status.busy": "2022-10-04T14:17:41.611475Z",
     "iopub.status.idle": "2022-10-04T14:17:41.619851Z",
     "shell.execute_reply": "2022-10-04T14:17:41.618793Z"
    },
    "id": "sgrlCG69du4v",
    "outputId": "255f9dd0-af2b-47e8-b706-bf7cd4543560",
    "papermill": {
     "duration": 0.028699,
     "end_time": "2022-10-04T14:17:41.622043",
     "exception": false,
     "start_time": "2022-10-04T14:17:41.593344",
     "status": "completed"
    },
    "tags": []
   },
   "outputs": [
    {
     "data": {
      "text/plain": [
       "0     62.0\n",
       "1     95.0\n",
       "2    149.0\n",
       "3    140.0\n",
       "4    148.0\n",
       "Name: Price, dtype: float64"
      ]
     },
     "execution_count": 114,
     "metadata": {},
     "output_type": "execute_result"
    }
   ],
   "source": [
    "Y1 = df9.Price\n",
    "Y = Y1/100000\n",
    "Y.head()"
   ]
  },
  {
   "cell_type": "code",
   "execution_count": 115,
   "id": "13783b2f",
   "metadata": {
    "execution": {
     "iopub.execute_input": "2022-10-04T14:17:41.658091Z",
     "iopub.status.busy": "2022-10-04T14:17:41.657720Z",
     "iopub.status.idle": "2022-10-04T14:17:42.667298Z",
     "shell.execute_reply": "2022-10-04T14:17:42.666294Z"
    },
    "id": "KcWbH-gkd_Ah",
    "papermill": {
     "duration": 1.030777,
     "end_time": "2022-10-04T14:17:42.669777",
     "exception": false,
     "start_time": "2022-10-04T14:17:41.639000",
     "status": "completed"
    },
    "tags": []
   },
   "outputs": [],
   "source": [
    "from sklearn.model_selection import train_test_split\n",
    "X_train,X_test,Y_train,Y_test = train_test_split(X,Y,test_size=0.2,random_state=10)"
   ]
  },
  {
   "cell_type": "code",
   "execution_count": 116,
   "id": "20eecff7",
   "metadata": {
    "execution": {
     "iopub.execute_input": "2022-10-04T14:17:42.705205Z",
     "iopub.status.busy": "2022-10-04T14:17:42.704777Z",
     "iopub.status.idle": "2022-10-04T14:17:42.847991Z",
     "shell.execute_reply": "2022-10-04T14:17:42.846474Z"
    },
    "id": "3Q_OGv8yRDeq",
    "outputId": "aac9ab63-1f77-487d-c15b-557063de2db3",
    "papermill": {
     "duration": 0.164868,
     "end_time": "2022-10-04T14:17:42.851735",
     "exception": false,
     "start_time": "2022-10-04T14:17:42.686867",
     "status": "completed"
    },
    "tags": []
   },
   "outputs": [
    {
     "data": {
      "text/plain": [
       "0.899165075030611"
      ]
     },
     "execution_count": 116,
     "metadata": {},
     "output_type": "execute_result"
    }
   ],
   "source": [
    "from sklearn.linear_model import LinearRegression\n",
    "lr_clf = LinearRegression()\n",
    "lr_clf.fit(X_train,Y_train)\n",
    "lr_clf.score(X_test,Y_test)"
   ]
  },
  {
   "cell_type": "code",
   "execution_count": 117,
   "id": "631c1aed",
   "metadata": {
    "execution": {
     "iopub.execute_input": "2022-10-04T14:17:42.977590Z",
     "iopub.status.busy": "2022-10-04T14:17:42.977092Z",
     "iopub.status.idle": "2022-10-04T14:17:43.436447Z",
     "shell.execute_reply": "2022-10-04T14:17:43.434719Z"
    },
    "id": "T3S9rcV0fm-g",
    "outputId": "7cc6e4e9-0662-477d-dae3-36659317e44e",
    "papermill": {
     "duration": 0.486271,
     "end_time": "2022-10-04T14:17:43.440248",
     "exception": false,
     "start_time": "2022-10-04T14:17:42.953977",
     "status": "completed"
    },
    "tags": []
   },
   "outputs": [
    {
     "data": {
      "text/plain": [
       "array([0.90056004, 0.88316249, 0.89457892, 0.91808689, 0.90761913])"
      ]
     },
     "execution_count": 117,
     "metadata": {},
     "output_type": "execute_result"
    }
   ],
   "source": [
    "from sklearn.model_selection import ShuffleSplit\n",
    "from sklearn.model_selection import cross_val_score\n",
    "\n",
    "cv = ShuffleSplit(n_splits=5,test_size=0.2,random_state=0)\n",
    "\n",
    "cross_val_score(LinearRegression(),X,Y,cv=cv)"
   ]
  },
  {
   "cell_type": "code",
   "execution_count": 118,
   "id": "03912a1e",
   "metadata": {
    "execution": {
     "iopub.execute_input": "2022-10-04T14:17:43.562459Z",
     "iopub.status.busy": "2022-10-04T14:17:43.562027Z",
     "iopub.status.idle": "2022-10-04T14:17:47.317625Z",
     "shell.execute_reply": "2022-10-04T14:17:47.316320Z"
    },
    "id": "5FCh3la_gYUL",
    "outputId": "35636055-0ae3-4476-c44f-e5b31d6424e4",
    "papermill": {
     "duration": 3.786535,
     "end_time": "2022-10-04T14:17:47.319851",
     "exception": false,
     "start_time": "2022-10-04T14:17:43.533316",
     "status": "completed"
    },
    "tags": []
   },
   "outputs": [
    {
     "data": {
      "text/html": [
       "<div>\n",
       "<style scoped>\n",
       "    .dataframe tbody tr th:only-of-type {\n",
       "        vertical-align: middle;\n",
       "    }\n",
       "\n",
       "    .dataframe tbody tr th {\n",
       "        vertical-align: top;\n",
       "    }\n",
       "\n",
       "    .dataframe thead th {\n",
       "        text-align: right;\n",
       "    }\n",
       "</style>\n",
       "<table border=\"1\" class=\"dataframe\">\n",
       "  <thead>\n",
       "    <tr style=\"text-align: right;\">\n",
       "      <th></th>\n",
       "      <th>model</th>\n",
       "      <th>best_score</th>\n",
       "      <th>best_params</th>\n",
       "    </tr>\n",
       "  </thead>\n",
       "  <tbody>\n",
       "    <tr>\n",
       "      <th>0</th>\n",
       "      <td>linear_regression</td>\n",
       "      <td>0.900801</td>\n",
       "      <td>{'fit_intercept': True}</td>\n",
       "    </tr>\n",
       "    <tr>\n",
       "      <th>1</th>\n",
       "      <td>lasso</td>\n",
       "      <td>0.890017</td>\n",
       "      <td>{'alpha': 1, 'selection': 'cyclic'}</td>\n",
       "    </tr>\n",
       "    <tr>\n",
       "      <th>2</th>\n",
       "      <td>decision_Tree</td>\n",
       "      <td>0.972818</td>\n",
       "      <td>{'criterion': 'friedman_mse', 'splitter': 'best'}</td>\n",
       "    </tr>\n",
       "  </tbody>\n",
       "</table>\n",
       "</div>"
      ],
      "text/plain": [
       "               model  best_score  \\\n",
       "0  linear_regression    0.900801   \n",
       "1              lasso    0.890017   \n",
       "2      decision_Tree    0.972818   \n",
       "\n",
       "                                         best_params  \n",
       "0                            {'fit_intercept': True}  \n",
       "1                {'alpha': 1, 'selection': 'cyclic'}  \n",
       "2  {'criterion': 'friedman_mse', 'splitter': 'best'}  "
      ]
     },
     "execution_count": 118,
     "metadata": {},
     "output_type": "execute_result"
    }
   ],
   "source": [
    "from sklearn.model_selection import GridSearchCV\n",
    "from sklearn.linear_model import Lasso\n",
    "from sklearn.tree import DecisionTreeRegressor\n",
    "import warnings\n",
    "warnings.filterwarnings(action='ignore')\n",
    "\n",
    "def find_best_model(X,Y):\n",
    "  algos = {\n",
    "      'linear_regression':{\n",
    "          'model': LinearRegression(),\n",
    "          'params':{\n",
    "              'fit_intercept' :[True,False]\n",
    "          }\n",
    "      },\n",
    "\n",
    "      'lasso':{\n",
    "          'model':Lasso(),\n",
    "          'params':{\n",
    "              'alpha':[1,2],\n",
    "              'selection':['random','cyclic']\n",
    "          }\n",
    "      },\n",
    "\n",
    "      'decision_Tree':{\n",
    "            'model':DecisionTreeRegressor(),\n",
    "            'params':{\n",
    "                'criterion':['mse','friedman_mse'],\n",
    "                'splitter':['best','random']\n",
    "            }\n",
    "      }\n",
    "  }\n",
    "\n",
    "  scores=[]\n",
    "  cv = ShuffleSplit(n_splits=5,test_size=0.2,random_state=0)\n",
    "  for algo_name,config in algos.items():\n",
    "   gs = GridSearchCV(config['model'],config['params'],cv=cv,return_train_score=False)\n",
    "   gs.fit(X,Y)\n",
    "   scores.append({\n",
    "       'model':algo_name,\n",
    "       'best_score':gs.best_score_,\n",
    "       'best_params':gs.best_params_\n",
    "   })\n",
    "\n",
    "  return pd.DataFrame(scores,columns=['model','best_score','best_params'])\n",
    "\n",
    "find_best_model(X,Y)"
   ]
  },
  {
   "cell_type": "markdown",
   "id": "91da7c25",
   "metadata": {
    "id": "fEFkHI6fksIw",
    "papermill": {
     "duration": 0.017017,
     "end_time": "2022-10-04T14:17:47.355088",
     "exception": false,
     "start_time": "2022-10-04T14:17:47.338071",
     "status": "completed"
    },
    "tags": []
   },
   "source": [
    "# Decesion Tree"
   ]
  },
  {
   "cell_type": "code",
   "execution_count": 119,
   "id": "48c48a65",
   "metadata": {
    "execution": {
     "iopub.execute_input": "2022-10-04T14:17:47.391500Z",
     "iopub.status.busy": "2022-10-04T14:17:47.391086Z",
     "iopub.status.idle": "2022-10-04T14:17:47.437694Z",
     "shell.execute_reply": "2022-10-04T14:17:47.436442Z"
    },
    "id": "gcmm-4oBh9Rf",
    "outputId": "417919dd-3df1-4a2e-f418-60032c4afaa8",
    "papermill": {
     "duration": 0.067494,
     "end_time": "2022-10-04T14:17:47.439927",
     "exception": false,
     "start_time": "2022-10-04T14:17:47.372433",
     "status": "completed"
    },
    "tags": []
   },
   "outputs": [
    {
     "data": {
      "text/plain": [
       "0.9480671089329094"
      ]
     },
     "execution_count": 119,
     "metadata": {},
     "output_type": "execute_result"
    }
   ],
   "source": [
    "model = DecisionTreeRegressor(criterion = 'friedman_mse', splitter=\"random\")\n",
    "model.fit(X_train,Y_train)\n",
    "model.score(X_test,Y_test)"
   ]
  },
  {
   "cell_type": "code",
   "execution_count": 120,
   "id": "e7e76b52",
   "metadata": {
    "execution": {
     "iopub.execute_input": "2022-10-04T14:17:47.476964Z",
     "iopub.status.busy": "2022-10-04T14:17:47.476561Z",
     "iopub.status.idle": "2022-10-04T14:17:47.495311Z",
     "shell.execute_reply": "2022-10-04T14:17:47.494063Z"
    },
    "id": "u5JBsc1EoNSB",
    "outputId": "a48bc5b9-c96e-4de0-9888-b15a845ef27a",
    "papermill": {
     "duration": 0.039886,
     "end_time": "2022-10-04T14:17:47.497790",
     "exception": false,
     "start_time": "2022-10-04T14:17:47.457904",
     "status": "completed"
    },
    "tags": []
   },
   "outputs": [
    {
     "data": {
      "text/html": [
       "<div>\n",
       "<style scoped>\n",
       "    .dataframe tbody tr th:only-of-type {\n",
       "        vertical-align: middle;\n",
       "    }\n",
       "\n",
       "    .dataframe tbody tr th {\n",
       "        vertical-align: top;\n",
       "    }\n",
       "\n",
       "    .dataframe thead th {\n",
       "        text-align: right;\n",
       "    }\n",
       "</style>\n",
       "<table border=\"1\" class=\"dataframe\">\n",
       "  <thead>\n",
       "    <tr style=\"text-align: right;\">\n",
       "      <th></th>\n",
       "      <th>Area</th>\n",
       "      <th>bhk</th>\n",
       "      <th>Gymnasium</th>\n",
       "      <th>Lift</th>\n",
       "      <th>Car</th>\n",
       "      <th>Maintenance Staff</th>\n",
       "      <th>Security</th>\n",
       "      <th>Children's Play Area</th>\n",
       "      <th>Clubhouse</th>\n",
       "      <th>Intercom</th>\n",
       "      <th>...</th>\n",
       "      <th>Virar West</th>\n",
       "      <th>Wadala</th>\n",
       "      <th>Wadala East Wadala</th>\n",
       "      <th>Worli</th>\n",
       "      <th>kandivali</th>\n",
       "      <th>kavesar</th>\n",
       "      <th>matunga east</th>\n",
       "      <th>mumbai</th>\n",
       "      <th>taloja panchanand</th>\n",
       "      <th>vile parle west</th>\n",
       "    </tr>\n",
       "  </thead>\n",
       "  <tbody>\n",
       "    <tr>\n",
       "      <th>0</th>\n",
       "      <td>400</td>\n",
       "      <td>1</td>\n",
       "      <td>0</td>\n",
       "      <td>1</td>\n",
       "      <td>1</td>\n",
       "      <td>1</td>\n",
       "      <td>1</td>\n",
       "      <td>0</td>\n",
       "      <td>0</td>\n",
       "      <td>0</td>\n",
       "      <td>...</td>\n",
       "      <td>False</td>\n",
       "      <td>False</td>\n",
       "      <td>False</td>\n",
       "      <td>False</td>\n",
       "      <td>False</td>\n",
       "      <td>False</td>\n",
       "      <td>False</td>\n",
       "      <td>False</td>\n",
       "      <td>False</td>\n",
       "      <td>False</td>\n",
       "    </tr>\n",
       "    <tr>\n",
       "      <th>1</th>\n",
       "      <td>1000</td>\n",
       "      <td>2</td>\n",
       "      <td>0</td>\n",
       "      <td>1</td>\n",
       "      <td>1</td>\n",
       "      <td>1</td>\n",
       "      <td>1</td>\n",
       "      <td>0</td>\n",
       "      <td>1</td>\n",
       "      <td>0</td>\n",
       "      <td>...</td>\n",
       "      <td>False</td>\n",
       "      <td>False</td>\n",
       "      <td>False</td>\n",
       "      <td>False</td>\n",
       "      <td>False</td>\n",
       "      <td>False</td>\n",
       "      <td>False</td>\n",
       "      <td>False</td>\n",
       "      <td>False</td>\n",
       "      <td>False</td>\n",
       "    </tr>\n",
       "    <tr>\n",
       "      <th>2</th>\n",
       "      <td>1245</td>\n",
       "      <td>2</td>\n",
       "      <td>0</td>\n",
       "      <td>1</td>\n",
       "      <td>1</td>\n",
       "      <td>0</td>\n",
       "      <td>0</td>\n",
       "      <td>0</td>\n",
       "      <td>0</td>\n",
       "      <td>0</td>\n",
       "      <td>...</td>\n",
       "      <td>False</td>\n",
       "      <td>False</td>\n",
       "      <td>False</td>\n",
       "      <td>False</td>\n",
       "      <td>False</td>\n",
       "      <td>False</td>\n",
       "      <td>False</td>\n",
       "      <td>False</td>\n",
       "      <td>False</td>\n",
       "      <td>False</td>\n",
       "    </tr>\n",
       "    <tr>\n",
       "      <th>3</th>\n",
       "      <td>1183</td>\n",
       "      <td>2</td>\n",
       "      <td>1</td>\n",
       "      <td>1</td>\n",
       "      <td>1</td>\n",
       "      <td>0</td>\n",
       "      <td>1</td>\n",
       "      <td>1</td>\n",
       "      <td>1</td>\n",
       "      <td>1</td>\n",
       "      <td>...</td>\n",
       "      <td>False</td>\n",
       "      <td>False</td>\n",
       "      <td>False</td>\n",
       "      <td>False</td>\n",
       "      <td>False</td>\n",
       "      <td>False</td>\n",
       "      <td>False</td>\n",
       "      <td>False</td>\n",
       "      <td>False</td>\n",
       "      <td>False</td>\n",
       "    </tr>\n",
       "    <tr>\n",
       "      <th>4</th>\n",
       "      <td>1245</td>\n",
       "      <td>2</td>\n",
       "      <td>0</td>\n",
       "      <td>1</td>\n",
       "      <td>1</td>\n",
       "      <td>1</td>\n",
       "      <td>1</td>\n",
       "      <td>0</td>\n",
       "      <td>0</td>\n",
       "      <td>0</td>\n",
       "      <td>...</td>\n",
       "      <td>False</td>\n",
       "      <td>False</td>\n",
       "      <td>False</td>\n",
       "      <td>False</td>\n",
       "      <td>False</td>\n",
       "      <td>False</td>\n",
       "      <td>False</td>\n",
       "      <td>False</td>\n",
       "      <td>False</td>\n",
       "      <td>False</td>\n",
       "    </tr>\n",
       "  </tbody>\n",
       "</table>\n",
       "<p>5 rows × 140 columns</p>\n",
       "</div>"
      ],
      "text/plain": [
       "   Area  bhk  Gymnasium  Lift  Car  Maintenance Staff  Security  \\\n",
       "0   400    1          0     1    1                  1         1   \n",
       "1  1000    2          0     1    1                  1         1   \n",
       "2  1245    2          0     1    1                  0         0   \n",
       "3  1183    2          1     1    1                  0         1   \n",
       "4  1245    2          0     1    1                  1         1   \n",
       "\n",
       "   Children's Play Area  Clubhouse  Intercom  ...  Virar West  Wadala  \\\n",
       "0                     0          0         0  ...       False   False   \n",
       "1                     0          1         0  ...       False   False   \n",
       "2                     0          0         0  ...       False   False   \n",
       "3                     1          1         1  ...       False   False   \n",
       "4                     0          0         0  ...       False   False   \n",
       "\n",
       "   Wadala East Wadala  Worli  kandivali  kavesar  matunga east  mumbai  \\\n",
       "0               False  False      False    False         False   False   \n",
       "1               False  False      False    False         False   False   \n",
       "2               False  False      False    False         False   False   \n",
       "3               False  False      False    False         False   False   \n",
       "4               False  False      False    False         False   False   \n",
       "\n",
       "   taloja panchanand  vile parle west  \n",
       "0              False            False  \n",
       "1              False            False  \n",
       "2              False            False  \n",
       "3              False            False  \n",
       "4              False            False  \n",
       "\n",
       "[5 rows x 140 columns]"
      ]
     },
     "execution_count": 120,
     "metadata": {},
     "output_type": "execute_result"
    }
   ],
   "source": [
    "X.head()"
   ]
  },
  {
   "cell_type": "code",
   "execution_count": 121,
   "id": "d2640b70",
   "metadata": {
    "execution": {
     "iopub.execute_input": "2022-10-04T14:17:47.536023Z",
     "iopub.status.busy": "2022-10-04T14:17:47.535620Z",
     "iopub.status.idle": "2022-10-04T14:17:47.543310Z",
     "shell.execute_reply": "2022-10-04T14:17:47.542154Z"
    },
    "id": "4unwfwJa7Cna",
    "outputId": "e6bd2b11-2a42-4c58-88ba-76f4289b7964",
    "papermill": {
     "duration": 0.028843,
     "end_time": "2022-10-04T14:17:47.545362",
     "exception": false,
     "start_time": "2022-10-04T14:17:47.516519",
     "status": "completed"
    },
    "tags": []
   },
   "outputs": [
    {
     "data": {
      "text/plain": [
       "Index(['Area', 'bhk', 'Gymnasium', 'Lift', 'Car', 'Maintenance Staff',\n",
       "       'Security', 'Children's Play Area', 'Clubhouse', 'Intercom',\n",
       "       ...\n",
       "       'Virar West', 'Wadala', 'Wadala East Wadala', 'Worli', 'kandivali',\n",
       "       'kavesar', 'matunga east', 'mumbai', 'taloja panchanand',\n",
       "       'vile parle west'],\n",
       "      dtype='object', length=140)"
      ]
     },
     "execution_count": 121,
     "metadata": {},
     "output_type": "execute_result"
    }
   ],
   "source": [
    "X.columns"
   ]
  },
  {
   "cell_type": "code",
   "execution_count": 122,
   "id": "01a5f6d2",
   "metadata": {
    "execution": {
     "iopub.execute_input": "2022-10-04T14:17:47.584287Z",
     "iopub.status.busy": "2022-10-04T14:17:47.583909Z",
     "iopub.status.idle": "2022-10-04T14:17:47.590044Z",
     "shell.execute_reply": "2022-10-04T14:17:47.589332Z"
    },
    "id": "twZ9_UxT6wsV",
    "outputId": "b13ff5df-5b0b-4bae-ec18-11b202b9d82f",
    "papermill": {
     "duration": 0.028424,
     "end_time": "2022-10-04T14:17:47.591942",
     "exception": false,
     "start_time": "2022-10-04T14:17:47.563518",
     "status": "completed"
    },
    "tags": []
   },
   "outputs": [
    {
     "data": {
      "text/plain": [
       "np.int64(130)"
      ]
     },
     "execution_count": 122,
     "metadata": {},
     "output_type": "execute_result"
    }
   ],
   "source": [
    "np.where(X.columns=='Virar West')[0][0]"
   ]
  },
  {
   "cell_type": "markdown",
   "id": "5edeed80",
   "metadata": {
    "id": "BVKMxiLTk5aI",
    "papermill": {
     "duration": 0.017641,
     "end_time": "2022-10-04T14:17:47.627658",
     "exception": false,
     "start_time": "2022-10-04T14:17:47.610017",
     "status": "completed"
    },
    "tags": []
   },
   "source": [
    "Prediction through Decesion Tree"
   ]
  },
  {
   "cell_type": "code",
   "execution_count": 123,
   "id": "fb0be74a",
   "metadata": {
    "execution": {
     "iopub.execute_input": "2022-10-04T14:17:47.665255Z",
     "iopub.status.busy": "2022-10-04T14:17:47.664803Z",
     "iopub.status.idle": "2022-10-04T14:17:47.671709Z",
     "shell.execute_reply": "2022-10-04T14:17:47.670553Z"
    },
    "id": "vWu-8q4FWv0t",
    "papermill": {
     "duration": 0.028454,
     "end_time": "2022-10-04T14:17:47.674051",
     "exception": false,
     "start_time": "2022-10-04T14:17:47.645597",
     "status": "completed"
    },
    "tags": []
   },
   "outputs": [],
   "source": [
    "def predict_price1(Location,Area,bhk,Gymnasium,Lift):\n",
    "  loc_index = np.where(X.columns==Location)[0][0]\n",
    "  print(type(X.columns))\n",
    "  x = np.zeros(len(X.columns))\n",
    "  x[0] = Area\n",
    "  x[1] = bhk\n",
    "  x[2] = Gymnasium\n",
    "  x[3] = Lift\n",
    "  print(type(x))\n",
    "\n",
    "  if loc_index >=0:\n",
    "    x[loc_index] = 1\n",
    "\n",
    "  return model.predict([x])[0]"
   ]
  },
  {
   "cell_type": "code",
   "execution_count": 124,
   "id": "c41c1a5e",
   "metadata": {
    "execution": {
     "iopub.execute_input": "2022-10-04T14:17:47.713347Z",
     "iopub.status.busy": "2022-10-04T14:17:47.712307Z",
     "iopub.status.idle": "2022-10-04T14:17:47.719168Z",
     "shell.execute_reply": "2022-10-04T14:17:47.718405Z"
    },
    "id": "pWaJwQOJyKOg",
    "outputId": "db7d0827-a817-40f7-e35c-a8227f49d30a",
    "papermill": {
     "duration": 0.02848,
     "end_time": "2022-10-04T14:17:47.721250",
     "exception": false,
     "start_time": "2022-10-04T14:17:47.692770",
     "status": "completed"
    },
    "tags": []
   },
   "outputs": [
    {
     "name": "stdout",
     "output_type": "stream",
     "text": [
      "<class 'pandas.core.indexes.base.Index'>\n",
      "<class 'numpy.ndarray'>\n"
     ]
    },
    {
     "data": {
      "text/plain": [
       "np.float64(87.33)"
      ]
     },
     "execution_count": 124,
     "metadata": {},
     "output_type": "execute_result"
    }
   ],
   "source": [
    "predict_price1('Worli',3150,4,1,1)"
   ]
  },
  {
   "cell_type": "code",
   "execution_count": 125,
   "id": "d718560d",
   "metadata": {
    "execution": {
     "iopub.execute_input": "2022-10-04T14:17:47.758969Z",
     "iopub.status.busy": "2022-10-04T14:17:47.758555Z",
     "iopub.status.idle": "2022-10-04T14:17:47.766550Z",
     "shell.execute_reply": "2022-10-04T14:17:47.765300Z"
    },
    "id": "HylcPXjvULQ1",
    "outputId": "0aab2d29-1629-4521-b87b-421805807fb0",
    "papermill": {
     "duration": 0.02933,
     "end_time": "2022-10-04T14:17:47.768769",
     "exception": false,
     "start_time": "2022-10-04T14:17:47.739439",
     "status": "completed"
    },
    "tags": []
   },
   "outputs": [
    {
     "name": "stdout",
     "output_type": "stream",
     "text": [
      "<class 'pandas.core.indexes.base.Index'>\n",
      "<class 'numpy.ndarray'>\n"
     ]
    },
    {
     "data": {
      "text/plain": [
       "np.float64(20.0)"
      ]
     },
     "execution_count": 125,
     "metadata": {},
     "output_type": "execute_result"
    }
   ],
   "source": [
    "predict_price1('Airoli',475,2,0,1)"
   ]
  },
  {
   "cell_type": "markdown",
   "id": "5ce403dc",
   "metadata": {
    "id": "huMCCLJ_XILp",
    "papermill": {
     "duration": 0.01802,
     "end_time": "2022-10-04T14:17:47.805168",
     "exception": false,
     "start_time": "2022-10-04T14:17:47.787148",
     "status": "completed"
    },
    "tags": []
   },
   "source": [
    "# pickle"
   ]
  },
  {
   "cell_type": "code",
   "execution_count": 126,
   "id": "37dedc33",
   "metadata": {
    "execution": {
     "iopub.execute_input": "2022-10-04T14:17:47.843938Z",
     "iopub.status.busy": "2022-10-04T14:17:47.843054Z",
     "iopub.status.idle": "2022-10-04T14:17:47.848086Z",
     "shell.execute_reply": "2022-10-04T14:17:47.847037Z"
    },
    "id": "eVPVTs-dkULP",
    "papermill": {
     "duration": 0.026865,
     "end_time": "2022-10-04T14:17:47.850302",
     "exception": false,
     "start_time": "2022-10-04T14:17:47.823437",
     "status": "completed"
    },
    "tags": []
   },
   "outputs": [],
   "source": [
    "import pickle"
   ]
  },
  {
   "cell_type": "code",
   "execution_count": 127,
   "id": "d3ccf7e4",
   "metadata": {
    "execution": {
     "iopub.execute_input": "2022-10-04T14:17:47.889011Z",
     "iopub.status.busy": "2022-10-04T14:17:47.888627Z",
     "iopub.status.idle": "2022-10-04T14:17:47.897561Z",
     "shell.execute_reply": "2022-10-04T14:17:47.896582Z"
    },
    "id": "dRdAGgFEkZ8L",
    "papermill": {
     "duration": 0.031206,
     "end_time": "2022-10-04T14:17:47.899942",
     "exception": false,
     "start_time": "2022-10-04T14:17:47.868736",
     "status": "completed"
    },
    "tags": []
   },
   "outputs": [],
   "source": [
    "y_pred = model.predict(X_test)"
   ]
  },
  {
   "cell_type": "code",
   "execution_count": 128,
   "id": "56564711",
   "metadata": {
    "execution": {
     "iopub.execute_input": "2022-10-04T14:17:47.939325Z",
     "iopub.status.busy": "2022-10-04T14:17:47.938883Z",
     "iopub.status.idle": "2022-10-04T14:17:48.199095Z",
     "shell.execute_reply": "2022-10-04T14:17:48.198286Z"
    },
    "id": "9EPzxAYfkg5K",
    "outputId": "98e14b01-8eb0-4d59-c87c-93ed07f20608",
    "papermill": {
     "duration": 0.282246,
     "end_time": "2022-10-04T14:17:48.201136",
     "exception": false,
     "start_time": "2022-10-04T14:17:47.918890",
     "status": "completed"
    },
    "tags": []
   },
   "outputs": [
    {
     "data": {
      "image/png": "[encoded data removed]",
      "text/plain": [
       "<Figure size 2000x1000 with 1 Axes>"
      ]
     },
     "metadata": {},
     "output_type": "display_data"
    }
   ],
   "source": [
    "plt.scatter(Y_test,y_pred);"
   ]
  },
  {
   "cell_type": "code",
   "execution_count": 129,
   "id": "62923ef2",
   "metadata": {
    "execution": {
     "iopub.execute_input": "2022-10-04T14:17:48.241366Z",
     "iopub.status.busy": "2022-10-04T14:17:48.240634Z",
     "iopub.status.idle": "2022-10-04T14:17:48.247353Z",
     "shell.execute_reply": "2022-10-04T14:17:48.245980Z"
    },
    "id": "-GyAF3nqkXSC",
    "outputId": "f58f4d2c-2a58-4130-e034-2d41587dc055",
    "papermill": {
     "duration": 0.02964,
     "end_time": "2022-10-04T14:17:48.249788",
     "exception": false,
     "start_time": "2022-10-04T14:17:48.220148",
     "status": "completed"
    },
    "tags": []
   },
   "outputs": [],
   "source": [
    "pickle.dump(model, open('mumbai_house_prices_prediction.pkl','wb'))"
   ]
  },
  {
   "cell_type": "code",
   "execution_count": 130,
   "id": "f2ec6a03",
   "metadata": {
    "execution": {
     "iopub.execute_input": "2022-10-04T14:17:48.289395Z",
     "iopub.status.busy": "2022-10-04T14:17:48.288844Z",
     "iopub.status.idle": "2022-10-04T14:17:48.296382Z",
     "shell.execute_reply": "2022-10-04T14:17:48.295064Z"
    },
    "papermill": {
     "duration": 0.029678,
     "end_time": "2022-10-04T14:17:48.298689",
     "exception": false,
     "start_time": "2022-10-04T14:17:48.269011",
     "status": "completed"
    },
    "tags": []
   },
   "outputs": [],
   "source": [
    "def predict_house_price(Location,Area,bhk,Gymnasium,Lift):\n",
    "  loc_index = np.where(X.columns==Location)[0][0]\n",
    "\n",
    "  x = np.zeros(len(X.columns))\n",
    "  x[0] = Area\n",
    "  x[1] = bhk\n",
    "  x[2] = Gymnasium\n",
    "  x[3] = Lift\n",
    "  if loc_index >=0:\n",
    "    x[loc_index] = 1\n",
    "\n",
    "  model1 = pickle.load(open('mumbai_house_prices_prediction.pkl','rb'))\n",
    "\n",
    "  return model1.predict([x])[0]"
   ]
  },
  {
   "cell_type": "code",
   "execution_count": 131,
   "id": "82b21d56",
   "metadata": {},
   "outputs": [],
   "source": [
    "import json\n",
    "def predict_house_price(Location,Area,bhk,Gymnasium,Lift):\n",
    "    # data = request.json\n",
    "    # Location,Area,bhk,Gymnasium,Lift = data['location'], data['area'], data['bhk'], data['gym'], data['lift']\n",
    "    with open('columns.json', 'r') as file:\n",
    "        columns = json.load(file)\n",
    "    loc_index = np.flatnonzero(np.array(columns[\"data_column\"]) == Location)\n",
    "    print(type(loc_index))\n",
    "    x = np.zeros(len(columns[\"data_column\"]))\n",
    "    print(len(columns[\"data_column\"]))\n",
    "    x[0] = Area\n",
    "    x[1] = bhk\n",
    "    x[2] = Gymnasium\n",
    "    x[3] = Lift\n",
    "\n",
    "    if loc_index >=0:\n",
    "        x[loc_index] = 1\n",
    "    return str(model.predict([x])[0])"
   ]
  },
  {
   "cell_type": "code",
   "execution_count": 132,
   "id": "0618cb9d",
   "metadata": {
    "execution": {
     "iopub.execute_input": "2022-10-04T14:17:48.338420Z",
     "iopub.status.busy": "2022-10-04T14:17:48.338018Z",
     "iopub.status.idle": "2022-10-04T14:17:48.345483Z",
     "shell.execute_reply": "2022-10-04T14:17:48.343809Z"
    },
    "id": "rMsWXnq7vSMN",
    "outputId": "75a6927b-01f2-4db7-895c-357615886ac0",
    "papermill": {
     "duration": 0.029873,
     "end_time": "2022-10-04T14:17:48.347651",
     "exception": false,
     "start_time": "2022-10-04T14:17:48.317778",
     "status": "completed"
    },
    "tags": []
   },
   "outputs": [
    {
     "name": "stdout",
     "output_type": "stream",
     "text": [
      "<class 'numpy.ndarray'>\n",
      "140\n",
      "₹ 26.0 lakhs\n"
     ]
    }
   ],
   "source": [
    "print('₹',predict_house_price('Virar West',1500,2,0,1),'lakhs') "
   ]
  },
  {
   "cell_type": "markdown",
   "id": "81747f7f",
   "metadata": {
    "id": "kcc8Y7dwuTo8",
    "papermill": {
     "duration": 0.018527,
     "end_time": "2022-10-04T14:17:48.385013",
     "exception": false,
     "start_time": "2022-10-04T14:17:48.366486",
     "status": "completed"
    },
    "tags": []
   },
   "source": [
    "# json"
   ]
  },
  {
   "cell_type": "code",
   "execution_count": 133,
   "id": "c8026d58",
   "metadata": {
    "execution": {
     "iopub.execute_input": "2022-10-04T14:17:48.424972Z",
     "iopub.status.busy": "2022-10-04T14:17:48.423860Z",
     "iopub.status.idle": "2022-10-04T14:17:48.430192Z",
     "shell.execute_reply": "2022-10-04T14:17:48.429050Z"
    },
    "id": "6uJb5BoUuRDC",
    "papermill": {
     "duration": 0.029041,
     "end_time": "2022-10-04T14:17:48.432734",
     "exception": false,
     "start_time": "2022-10-04T14:17:48.403693",
     "status": "completed"
    },
    "tags": []
   },
   "outputs": [],
   "source": [
    "import json\n",
    "columns={'data_column' :[col for col in X.columns]\n",
    "         }\n",
    "with open(\"columns.json\",\"w\") as f:\n",
    "  f.write(json.dumps(columns))"
   ]
  },
  {
   "cell_type": "code",
   "execution_count": 134,
   "id": "8ed3b602",
   "metadata": {},
   "outputs": [],
   "source": [
    "location = {}"
   ]
  },
  {
   "cell_type": "code",
   "execution_count": 141,
   "id": "26e1c928",
   "metadata": {},
   "outputs": [
    {
     "name": "stdout",
     "output_type": "stream",
     "text": [
      "0.827476507059101\n"
     ]
    }
   ],
   "source": [
    "from matplotlib import pyplot as plt\n",
    "import pandas as pd\n",
    "from sklearn.preprocessing import LabelEncoder\n",
    "from sklearn.model_selection import train_test_split\n",
    "from sklearn.ensemble import RandomForestRegressor\n",
    "from sklearn.metrics import r2_score\n",
    "import pickle as pkl\n",
    "import seaborn as sns\n",
    "import numpy as np\n",
    "\n",
    "rfc = RandomForestRegressor()\n",
    "\n",
    "data = pd.read_csv('Mumbai1.csv')\n",
    "\n",
    "le = LabelEncoder()\n",
    "data['Location'] = le.fit_transform(data['Location'])\n",
    "data['Price'] = np.log(data['Price'])\n",
    "\n",
    "x = data.drop([\"Unnamed: 0\",\"Price\",\"Clubhouse\",\"Indoor Games\",\"Jogging Track\", \"Car Parking\",'New/Resale', \"Maintenance Staff\",\"24x7 Security\", \"Children's Play Area\", \"Intercom\",'Swimming Pool','Gas Connection', \"Landscaped Gardens\"], axis =1)\n",
    "y = data['Price']\n",
    "\n",
    "q1 = x['Area'].quantile(0.25)\n",
    "q3 = x['Area'].quantile(0.75)\n",
    "\n",
    "iqr = q3-q1\n",
    "\n",
    "u = q3 + 1.5*iqr\n",
    "l = q1 - 1.5*iqr\n",
    "\n",
    "out1 = x[x['Area'] < l].values\n",
    "out2 = x[x['Area'] > u].values\n",
    "\n",
    "x['Area'].replace(out1,l,inplace = True)\n",
    "x['Area'].replace(out2,u,inplace = True)\n",
    "\n",
    "# Price\n",
    "q1 = y.quantile(0.25)\n",
    "q3 = y.quantile(0.75)\n",
    "\n",
    "iqr = q3-q1\n",
    "\n",
    "u = q3 + 1.5*iqr\n",
    "l = q1 - 1.5*iqr\n",
    "\n",
    "out1 = y[y < l].values\n",
    "out2 = y[y > u].values\n",
    "\n",
    "y.replace(out1,l,inplace = True)\n",
    "y.replace(out2,u,inplace = True)\n",
    "\n",
    "\n",
    "x_train, x_test, y_train, y_test=train_test_split(x, y, random_state=0, train_size=0.3)\n",
    "\n",
    "rfc.fit(x_train,y_train)\n",
    "y_pred = rfc.predict(x_test)\n",
    "\n",
    "print(r2_score(y_test,y_pred))\n",
    "\n",
    "pkl.dump(rfc, open('model.pkl','wb'))"
   ]
  },
  {
   "cell_type": "code",
   "execution_count": 143,
   "id": "433f785a",
   "metadata": {},
   "outputs": [
    {
     "data": {
      "text/plain": [
       "np.float64(16.955449913779532)"
      ]
     },
     "execution_count": 143,
     "metadata": {},
     "output_type": "execute_result"
    }
   ],
   "source": [
    "x = [1223,156,3,0,1]\n",
    "x = np.array(x)\n",
    "features = ['Area', 'Location', 'No. of Bedrooms', 'Gymnasium', 'Lift Available']\n",
    "x = pd.DataFrame([x], columns=features)\n",
    "rfc.predict(x)[0]"
   ]
  },
  {
   "cell_type": "code",
   "execution_count": 144,
   "id": "07eb31f1",
   "metadata": {},
   "outputs": [
    {
     "data": {
      "text/html": [
       "<div>\n",
       "<style scoped>\n",
       "    .dataframe tbody tr th:only-of-type {\n",
       "        vertical-align: middle;\n",
       "    }\n",
       "\n",
       "    .dataframe tbody tr th {\n",
       "        vertical-align: top;\n",
       "    }\n",
       "\n",
       "    .dataframe thead th {\n",
       "        text-align: right;\n",
       "    }\n",
       "</style>\n",
       "<table border=\"1\" class=\"dataframe\">\n",
       "  <thead>\n",
       "    <tr style=\"text-align: right;\">\n",
       "      <th></th>\n",
       "      <th>Area</th>\n",
       "      <th>Location</th>\n",
       "      <th>No. of Bedrooms</th>\n",
       "      <th>Gymnasium</th>\n",
       "      <th>Lift Available</th>\n",
       "    </tr>\n",
       "  </thead>\n",
       "  <tbody>\n",
       "    <tr>\n",
       "      <th>1959</th>\n",
       "      <td>663</td>\n",
       "      <td>115</td>\n",
       "      <td>2</td>\n",
       "      <td>0</td>\n",
       "      <td>1</td>\n",
       "    </tr>\n",
       "    <tr>\n",
       "      <th>5319</th>\n",
       "      <td>580</td>\n",
       "      <td>39</td>\n",
       "      <td>1</td>\n",
       "      <td>0</td>\n",
       "      <td>1</td>\n",
       "    </tr>\n",
       "    <tr>\n",
       "      <th>4025</th>\n",
       "      <td>1055</td>\n",
       "      <td>120</td>\n",
       "      <td>2</td>\n",
       "      <td>1</td>\n",
       "      <td>1</td>\n",
       "    </tr>\n",
       "    <tr>\n",
       "      <th>3506</th>\n",
       "      <td>976</td>\n",
       "      <td>342</td>\n",
       "      <td>2</td>\n",
       "      <td>1</td>\n",
       "      <td>1</td>\n",
       "    </tr>\n",
       "    <tr>\n",
       "      <th>3897</th>\n",
       "      <td>1980</td>\n",
       "      <td>15</td>\n",
       "      <td>4</td>\n",
       "      <td>1</td>\n",
       "      <td>1</td>\n",
       "    </tr>\n",
       "    <tr>\n",
       "      <th>...</th>\n",
       "      <td>...</td>\n",
       "      <td>...</td>\n",
       "      <td>...</td>\n",
       "      <td>...</td>\n",
       "      <td>...</td>\n",
       "    </tr>\n",
       "    <tr>\n",
       "      <th>4931</th>\n",
       "      <td>540</td>\n",
       "      <td>357</td>\n",
       "      <td>1</td>\n",
       "      <td>0</td>\n",
       "      <td>0</td>\n",
       "    </tr>\n",
       "    <tr>\n",
       "      <th>3264</th>\n",
       "      <td>1025</td>\n",
       "      <td>179</td>\n",
       "      <td>2</td>\n",
       "      <td>1</td>\n",
       "      <td>1</td>\n",
       "    </tr>\n",
       "    <tr>\n",
       "      <th>1653</th>\n",
       "      <td>1055</td>\n",
       "      <td>289</td>\n",
       "      <td>2</td>\n",
       "      <td>0</td>\n",
       "      <td>1</td>\n",
       "    </tr>\n",
       "    <tr>\n",
       "      <th>2607</th>\n",
       "      <td>340</td>\n",
       "      <td>170</td>\n",
       "      <td>1</td>\n",
       "      <td>0</td>\n",
       "      <td>0</td>\n",
       "    </tr>\n",
       "    <tr>\n",
       "      <th>2732</th>\n",
       "      <td>650</td>\n",
       "      <td>39</td>\n",
       "      <td>1</td>\n",
       "      <td>1</td>\n",
       "      <td>1</td>\n",
       "    </tr>\n",
       "  </tbody>\n",
       "</table>\n",
       "<p>1904 rows × 5 columns</p>\n",
       "</div>"
      ],
      "text/plain": [
       "      Area  Location  No. of Bedrooms  Gymnasium  Lift Available\n",
       "1959   663       115                2          0               1\n",
       "5319   580        39                1          0               1\n",
       "4025  1055       120                2          1               1\n",
       "3506   976       342                2          1               1\n",
       "3897  1980        15                4          1               1\n",
       "...    ...       ...              ...        ...             ...\n",
       "4931   540       357                1          0               0\n",
       "3264  1025       179                2          1               1\n",
       "1653  1055       289                2          0               1\n",
       "2607   340       170                1          0               0\n",
       "2732   650        39                1          1               1\n",
       "\n",
       "[1904 rows x 5 columns]"
      ]
     },
     "execution_count": 144,
     "metadata": {},
     "output_type": "execute_result"
    }
   ],
   "source": [
    "x_train"
   ]
  },
  {
   "cell_type": "code",
   "execution_count": 138,
   "id": "e37de060",
   "metadata": {},
   "outputs": [
    {
     "name": "stdout",
     "output_type": "stream",
     "text": [
      "{'Kharghar': 136, 'Sector-13 Kharghar': 288, 'Sector 18 Kharghar': 262, 'Sector 20 Kharghar': 269, 'Sector 15 Kharghar': 258, 'Dombivali': 67, 'Churchgate': 51, 'Prabhadevi': 230, 'Jogeshwari West': 107, 'Kalyan East': 114, 'Malad East': 169, 'Virar East': 374, 'Virar': 373, 'Malad West': 170, 'Borivali East': 38, 'Mira Road East': 179, 'Goregaon West': 86, 'Kandivali West': 119, 'Borivali West': 39, 'Kandivali East': 118, 'Andheri East': 14, 'Goregaon East': 85, 'Wadala': 379, 'Ulwe': 348, 'Dahisar': 55, 'kandivali': 394, 'Goregaon': 83, 'Bhandup West': 30, 'thakur village kandivali east': 406, 'Santacruz West': 246, 'Kanjurmarg': 120, 'I C Colony': 101, 'Dahisar W': 57, 'Marol': 175, 'Parel': 216, 'Lower Parel': 157, 'Worli': 386, 'Jogeshwari East': 106, 'Chembur Shell Colony': 50, 'Central Avenue': 43, 'Chembur East': 49, 'Diamond Market Road': 63, 'Mulund': 182, 'Nalasopara West': 193, 'raheja vihar': 401, 'Powai Lake': 229, 'MHADA Colony 20': 159, 'Tolaram Colony': 346, 'Taloja': 333, 'Thane West': 342, 'Vangani': 353, 'Sector 5 Ulwe': 282, 'Sector12 New Panvel': 303, 'Sector 17 Ulwe': 259, 'Sector9 Kamothe': 311, 'Sector 19 Kharghar': 264, 'Navi Basti': 196, 'Sector12 Kamothe': 302, 'Sector 21 Kamothe': 270, 'Rutu Enclave': 238, 'taloja panchanand': 405, 'Virar West': 375, 'Chembur': 48, 'Sector 20 Kamothe': 268, 'Sector 22 Kamothe': 273, 'Sector 18 Kamothe': 261, 'Sector-5 Kamothe': 295, 'Sector-6A Kamothe': 297, 'Sector 11 Kamothe': 253, 'Sector-18 Ulwe': 289, 'Sector-12 Kamothe': 287, 'azad nagar': 390, 'Sindhi Society Chembur': 324, 'Kurla': 151, 'Sahkar Nagar': 239, 'Deonar': 60, 'Thane': 340, 'Jankalyan Nagar': 103, 'Badlapur': 19, 'Ambarnath': 7, 'Ambernath West': 9, 'Vakola': 351, 'Kamothe': 116, 'Kamothe Sector 16': 117, 'Almeida Park': 6, 'Khar': 133, 'Bandra West': 25, 'Pali Hill': 209, '15th Road': 0, 'Palghar': 208, 'Sector13 Kharghar': 305, 'Sector 21 Kharghar': 271, 'Sector 12 Kharghar': 256, 'Vivek Vidyalaya Marg': 378, 'Vasai east': 357, 'Nahur': 189, 'Badlapur West': 21, 'Panvel': 215, 'Kalyan': 113, 'Badlapur East': 20, 'Mira Bhayandar': 177, 'Juhu': 108, 'Naigaon East': 190, 'Sector 21 Ulwe': 272, 'Bandra East': 23, 'Dronagiri': 70, 'Nerul': 199, 'Karanjade': 125, 'Sanpada': 244, 'Sector-8 Ulwe': 299, 'Sector-3 Ulwe': 292, 'Sector 23 Ulwe': 274, 'ULWE SECTOR 19': 347, 'Ghodbunder Road': 80, 'Bhiwandi': 34, 'Vasai': 355, 'Nala Sopara': 191, 'Dadar East': 53, 'Ghatkopar': 77, 'Breach Candy': 40, 'Worli South Mumbai': 387, 'Asangaon': 18, 'Koparkhairane Station Road': 146, 'Kopar Khairane Sector 19A': 144, 'Koper Khairane': 147, 'Eastern Express Highway Vikhroli': 71, 'Magathane': 160, 'Rawal Pada': 235, 'Ambernath East': 8, 'Dokali Pada': 66, 'Dattapada': 59, 'Rajendra Nagar': 231, 'Kulupwadi': 150, 'Samata Nagar Thakur Village': 242, 'Mira Road and Beyond': 180, 'West Amardeep Colony': 383, 'Pant Nagar': 214, 'mumbai': 399, 'Four Bungalows': 72, 'no 9': 400, 'kolshet': 396, 'Hiranandani Meadows': 100, 'Kalpataru': 111, 'Petali': 221, 'Kharghar Sector 34C': 137, 'Ghatkopar East': 78, 'Mumbai Agra National Highway': 185, 'vasant vihar thane west': 408, 'Kalyan West': 115, 'Shirgaon': 320, 'Pokhran 2': 225, 'juhu tara': 393, 'Peddar Road': 220, 'Palm Beach': 211, 'Sector 10': 249, 'Sector 19 Kamothe': 263, 'Tilak Nagar': 343, 'Ghatkopar West': 79, 'Tardeo': 336, 'Napeansea Road': 194, 'Mahalaxmi': 161, 'Dahisar West': 58, 'Mulund West': 184, 'Natakwala Lane': 195, 'Link Road': 154, 'Devidas Cross Lane': 61, 'Soniwadi Road': 326, 'Haridas Nagar': 97, 'Shimpoli': 319, 'TPS Road': 332, 'Off Shimpoli road': 202, 'Rustomjee Global City': 237, 'Sunil Nagar': 330, 'Sector 30 Kharghar': 276, 'Sector 12 A': 255, 'Sector 18': 260, 'Sector13 Khanda Colony': 304, 'Sector16 Airoli': 306, 'Ranjanpada': 233, 'Sector 15': 257, 'Sector 35G': 277, 'Sector 5': 281, 'Sector 35I Kharghar': 278, 'Sector35D Kharghar': 309, 'Sector34 A Kharghar': 308, 'Sector 30': 275, 'Sector 36 Kharghar': 280, 'Sector 11 Belapur': 252, 'Sector-34B Kharghar': 293, 'Dombivali East': 68, 'Roadpali': 236, 'Sector-50 Seawoods': 296, 'Mumbai Highway': 187, 'Sector 7 Kharghar': 285, 'Lokhandwala Township': 156, 'Andheri': 13, 'Andheri West': 15, 'Shastri Nagar': 316, 'Wadala East Wadala': 381, 'Kalwa': 112, 'PARSIK NAGAR': 205, 'Maharashtra Nagar': 162, 'Patlipada': 219, 'Belapur': 27, 'Seawoods': 248, 'Majiwada': 165, '4 Bunglows': 1, 'Airoli': 4, 'Kolshet Road': 142, 'Sector 10 Khanda Colony': 251, 'Pokharan Road': 224, 'Kharegaon': 135, 'Panch Pakhadi': 212, 'Sector 36 Kamothe': 279, 'Dombivli (West)': 69, 'DN Nagar Road': 52, 'Godrej Hill': 82, 'Ganesh Nagar': 75, 'Haware City': 98, 'Mahatma Gandhi Road': 163, 'Akurli Nagar': 5, 'Kasar vadavali': 128, 'Vasai West': 356, 'Mumbai Nashik Expressway': 188, 'Katrap': 130, 'Mira Road': 178, 'Kasheli': 129, 'Western Express Highway Kandivali East': 384, 'Vasind': 360, 'KASHELI': 109, 'Thakurli': 339, 'Shakti Nagar': 315, 'Bhayandar East': 31, 'Dahisar East': 56, 'ulhasnagar 4': 407, 'Sector-26 Taloja': 291, 'Koproli': 148, 'Mumbai Central': 186, 'Greater Khanda': 90, 'link road borivali west': 397, 'Manpada': 171, 'Sector 2 Ulwe': 267, 'Govind nagar': 88, 'Krishanlal Marwah Marg': 149, 'Sector-9 Ulwe': 301, 'Vikhroli': 366, 'Kalamboli': 110, 'Lokhandwala': 155, 'Patel Nagar': 218, 'Yari Road': 388, 'Thakur complex': 338, 'Khar West': 134, 'Sector 11 Kharghar': 254, 'Ghansoli': 76, 'Sector8 Sanpada': 310, 'Jeejamata Nagar': 105, 'Pandurangwadi': 213, 'Shreyas Colony': 323, 'Kannamwar Nagar II': 122, 'gokuldham': 392, 'Bangur Nagar': 26, 'Shivaji Colony': 322, 'Jawahar Nagar': 104, 'Vedant Complex': 362, 'Titwala': 345, 'Manvel pada Road': 173, 'Govandi': 87, 'Shilphata Road Thane': 318, 'Vasant Vihar': 358, 'Thakur Village': 337, 'Samata nagar': 243, 'Wadi Bandar': 382, 'Kapurbawadi': 124, 'Thane Belapur Road Kalwa': 341, 'Suburbs Mumbai': 328, 'Ramdev Park': 232, 'Sector-35 Kamothe': 294, 'Sector 58A Seawoods Navi Mumbai': 283, 'Diva': 64, 'Borivali': 37, 'Gundavali Gaothan': 93, 'Kondivita Road': 143, 'Koldongri': 140, 'Saki Naka': 241, 'Bhayandar West': 32, 'Versova': 363, 'Hanuman Nagar': 96, 'worli sea face ': 412, 'Sea Face': 247, 'Shiv Sagar Estate': 321, 'Grant Road West': 89, 'Sriprastha': 327, 'Off Nepean Sea Road': 201, 'Morya Nagar': 181, 'Upper Worli': 349, 'worli sea Fase': 411, 'Powai': 228, 'Agripada': 3, 'Sion': 325, 'Girgaon': 81, 'IT Colony': 102, 'Bhayandarpada': 33, 'Sector-24 Kamothe': 290, 'Phase 2': 222, 'Sector 6': 284, 'Malad': 168, 'Haji Ali': 94, 'Majiwada thane': 166, 'Yogi Hills': 389, 'Sector 19 Nerul': 265, 'Owale': 204, 'MG Road': 158, 'roadpali navimumbai': 402, 'Taloja Bypass Nitalas Link Road': 334, 'Rasayani': 234, 'Sector 10 Kamothe': 250, 'kavesar': 395, 'Kopara': 145, 'royal palms goregaon east': 403, 'Dadar West': 54, 'vrindavan society': 410, 'CBD Belapur East': 42, 'Parel Village': 217, 'Karave Nagar': 126, 'Sector 19A Nerul': 266, 'Antop Hill': 17, 'Suman Nagar': 329, 'Bhakti Park': 29, 'Hanuman Chowk': 95, 'Willingdon': 385, 'VishnuNagar': 376, 'Vichumbe': 364, 'Vashi': 359, 'Poonam Sagar Complex': 227, 'Santacruz East': 245, 'Mulund East': 183, 'Sector-8 Sanpada': 298, 'Sector-9 Ghansoli': 300, 'Balkum': 22, 'Hiranandani Estates': 99, 'Vartak Nagar': 354, 'Charkop': 45, 'dhanukarwadi': 391, 'Vazira': 361, 'Four Bunglows': 73, 'Palava': 207, 'Oshiwara Police Station Road': 203, 'Seven Bunglow': 313, 'Poddar Road': 223, 'Gulmohar Road': 92, 'Vile Parle E': 370, 'Pokhran Road No 2': 226, 'Sainath Nagar': 240, 'Kapur Bawdi': 123, 'Manpada near Tiku ji ni wadi': 172, 'Kolshet Industrial Area': 141, 'Sector16 Ulwe': 307, 'Anand Nagar Thane West': 12, 'Charkop Sector 8': 46, 'Vile Parle': 369, 'Marine Lines': 174, 'Bandra Kurla Complex': 24, 'sec 50 new': 404, 'Vakola Pipeline Road': 352, 'Neral': 197, 'Shil Phata': 317, 'Ville Parle East': 371, 'matunga east': 398, 'Dharavi': 62, 'vile parle west': 409, 'Anjurdive': 16, 'Uran': 350, 'Boisar': 36, 'Kanjurmarg East': 121, 'Kurla West': 153, 'Sewri': 314, 'Matunga': 176, 'Goregaon (East)': 84, 'Malabar Hill': 167, 'Ambivali': 10, 'Nalasopara East': 192, 'Vijay Nagar': 365, 'Chedda Nagar': 47, 'Kurla East': 152, 'Kharodi': 138, 'Ville Parle West': 372, 'Vikhroli West': 367, 'Wadala East': 380, 'Palidevad': 210, 'Vikroli East': 368, 'Mahim': 164, 'Khalapur': 132, 'Karjat': 127, 'Vitthalwadi': 377, 'Bhoiwada Kalyan': 35, 'Beturkar Pada': 28, 'Ambivli': 11, 'Nilje Gaon': 200, 'Khopoli': 139, 'Taloje': 335, 'Gulal Wadi': 91, 'Tilak Nagar Mumbai': 344, 'Chandivali': 44, 'Nere': 198, 'Kewale': 131, 'Sector 9 Airoli': 286, 'Diva Gaon': 65, 'Sen Nagar': 312, 'Adaigaon': 2, 'Syndicate': 331, 'Gandhar Nagar': 74, 'Byculla': 41, 'Padle Gaon': 206}\n"
     ]
    }
   ],
   "source": [
    "data = pd.read_csv('Mumbai1.csv')\n",
    "data['Code'] = le.fit_transform(data['Location'])\n",
    "x = data[['Location','Code']]\n",
    "location_code_dict = data.set_index('Location')['Code'].to_dict()\n",
    "\n",
    "print(location_code_dict)"
   ]
  },
  {
   "cell_type": "code",
   "execution_count": 139,
   "id": "ac5c75c1",
   "metadata": {},
   "outputs": [
    {
     "data": {
      "text/html": [
       "<div>\n",
       "<style scoped>\n",
       "    .dataframe tbody tr th:only-of-type {\n",
       "        vertical-align: middle;\n",
       "    }\n",
       "\n",
       "    .dataframe tbody tr th {\n",
       "        vertical-align: top;\n",
       "    }\n",
       "\n",
       "    .dataframe thead th {\n",
       "        text-align: right;\n",
       "    }\n",
       "</style>\n",
       "<table border=\"1\" class=\"dataframe\">\n",
       "  <thead>\n",
       "    <tr style=\"text-align: right;\">\n",
       "      <th></th>\n",
       "      <th>feature1</th>\n",
       "      <th>feature2</th>\n",
       "      <th>feature3</th>\n",
       "    </tr>\n",
       "  </thead>\n",
       "  <tbody>\n",
       "    <tr>\n",
       "      <th>0</th>\n",
       "      <td>jph</td>\n",
       "      <td>89</td>\n",
       "      <td>56</td>\n",
       "    </tr>\n",
       "    <tr>\n",
       "      <th>1</th>\n",
       "      <td>dfdgv</td>\n",
       "      <td>sfd</td>\n",
       "      <td>sf</td>\n",
       "    </tr>\n",
       "  </tbody>\n",
       "</table>\n",
       "</div>"
      ],
      "text/plain": [
       "  feature1 feature2 feature3\n",
       "0      jph       89       56\n",
       "1    dfdgv      sfd       sf"
      ]
     },
     "execution_count": 139,
     "metadata": {},
     "output_type": "execute_result"
    }
   ],
   "source": [
    "import pandas as pd\n",
    "import numpy as np\n",
    "\n",
    "# Assuming 'feature_names' is a list of column names used during training\n",
    "feature_names = ['feature1', 'feature2', 'feature3']  # Replace with your actual feature names\n",
    "X = np.array([['jph','89','56'],['dfdgv','sfd','sf']])\n",
    "# Convert the NumPy array to DataFrame\n",
    "X_df = pd.DataFrame(X, columns=feature_names)\n",
    "X_df\n"
   ]
  }
 ],
 "metadata": {
  "kernelspec": {
   "display_name": "Python 3",
   "language": "python",
   "name": "python3"
  },
  "language_info": {
   "codemirror_mode": {
    "name": "ipython",
    "version": 3
   },
   "file_extension": ".py",
   "mimetype": "text/x-python",
   "name": "python",
   "nbconvert_exporter": "python",
   "pygments_lexer": "ipython3",
   "version": "3.11.8"
  },
  "papermill": {
   "default_parameters": {},
   "duration": 18.374215,
   "end_time": "2022-10-04T14:17:49.173597",
   "environment_variables": {},
   "exception": null,
   "input_path": "__notebook__.ipynb",
   "output_path": "__notebook__.ipynb",
   "parameters": {},
   "start_time": "2022-10-04T14:17:30.799382",
   "version": "2.3.4"
  }
 },
 "nbformat": 4,
 "nbformat_minor": 5
}
